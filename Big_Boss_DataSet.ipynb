{
  "nbformat": 4,
  "nbformat_minor": 0,
  "metadata": {
    "colab": {
      "name": "Big Boss DataSet.ipynb",
      "provenance": [],
      "collapsed_sections": []
    },
    "kernelspec": {
      "display_name": "Python 3",
      "name": "python3"
    }
  },
  "cells": [
    {
      "cell_type": "markdown",
      "metadata": {
        "id": "v9zG86hjlAsK"
      },
      "source": [
        "# **Big Boss India**  -  Statistical Methods for Decision Making\r\n",
        "\r\n",
        "\r\n",
        "\r\n",
        "![download.jpg](data:image/jpeg;base64,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)"
      ]
    },
    {
      "cell_type": "markdown",
      "metadata": {
        "id": "zRXY62OYtaYf"
      },
      "source": [
        "### Import Libraries"
      ]
    },
    {
      "cell_type": "code",
      "metadata": {
        "id": "VyoaFSkm-ZQN"
      },
      "source": [
        "import pandas as pd\r\n",
        "import numpy as np\r\n",
        "import matplotlib.pyplot as plt\r\n",
        "import seaborn as sns\r\n",
        "import scipy.stats as stats\r\n",
        "from scipy.stats import ttest_ind\r\n",
        "from scipy.stats import t\r\n",
        "import pandas.util.testing as tm\r\n",
        "import statsmodels.api as sm\r\n",
        "from scipy.stats import chi2_contingency\r\n",
        "from scipy.stats import chi2\r\n",
        "\r\n",
        "import warnings\r\n",
        "warnings.filterwarnings('ignore')"
      ],
      "execution_count": null,
      "outputs": []
    },
    {
      "cell_type": "markdown",
      "metadata": {
        "id": "61S3b2bokgyo"
      },
      "source": [
        "### Import Big Boss Data Set"
      ]
    },
    {
      "cell_type": "code",
      "metadata": {
        "id": "9CTeOC3y-vXC"
      },
      "source": [
        "df = pd.read_csv(\"/content/drive/MyDrive/Colab Notebooks/Bigg_Boss_India.csv\",encoding=\"ISO-8859-1\")"
      ],
      "execution_count": null,
      "outputs": []
    },
    {
      "cell_type": "code",
      "metadata": {
        "id": "bVpJgbVXIfsc"
      },
      "source": [
        "from google.colab import drive\n",
        "drive.mount('/content/drive')"
      ],
      "execution_count": null,
      "outputs": []
    },
    {
      "cell_type": "code",
      "metadata": {
        "id": "qmQRPdKq-gcL"
      },
      "source": [
        "bb=pd.read_csv(\"/content/drive/MyDrive/Colab Notebooks/Bigg_Boss_India.csv\",encoding=\"ISO-8859-1\")"
      ],
      "execution_count": null,
      "outputs": []
    },
    {
      "cell_type": "code",
      "metadata": {
        "colab": {
          "base_uri": "https://localhost:8080/",
          "height": 163
        },
        "id": "pN-Do517kwez",
        "outputId": "20c18d75-3d4a-4f79-9e29-eee5ea4e405c"
      },
      "source": [
        "bb.info()"
      ],
      "execution_count": null,
      "outputs": [
        {
          "output_type": "error",
          "ename": "NameError",
          "evalue": "ignored",
          "traceback": [
            "\u001b[0;31m---------------------------------------------------------------------------\u001b[0m",
            "\u001b[0;31mNameError\u001b[0m                                 Traceback (most recent call last)",
            "\u001b[0;32m<ipython-input-1-74c8e6791c7f>\u001b[0m in \u001b[0;36m<module>\u001b[0;34m()\u001b[0m\n\u001b[0;32m----> 1\u001b[0;31m \u001b[0mbb\u001b[0m\u001b[0;34m.\u001b[0m\u001b[0minfo\u001b[0m\u001b[0;34m(\u001b[0m\u001b[0;34m)\u001b[0m\u001b[0;34m\u001b[0m\u001b[0;34m\u001b[0m\u001b[0m\n\u001b[0m",
            "\u001b[0;31mNameError\u001b[0m: name 'bb' is not defined"
          ]
        }
      ]
    },
    {
      "cell_type": "markdown",
      "metadata": {
        "id": "af1qVPLWC4_d"
      },
      "source": [
        "## Exploratory Ananlysis"
      ]
    },
    {
      "cell_type": "markdown",
      "metadata": {
        "id": "OtYKwi8gqRV-"
      },
      "source": [
        "### Shape and DataTypes"
      ]
    },
    {
      "cell_type": "code",
      "metadata": {
        "colab": {
          "base_uri": "https://localhost:8080/"
        },
        "id": "9vGoKovkBvmc",
        "outputId": "7a208441-15d9-4383-f1ba-3c5abfe21b46"
      },
      "source": [
        "## 24 attributes , 632 observations\r\n",
        "bb.shape\r\n"
      ],
      "execution_count": null,
      "outputs": [
        {
          "output_type": "execute_result",
          "data": {
            "text/plain": [
              "(632, 24)"
            ]
          },
          "metadata": {
            "tags": []
          },
          "execution_count": 10
        }
      ]
    },
    {
      "cell_type": "code",
      "metadata": {
        "colab": {
          "base_uri": "https://localhost:8080/"
        },
        "id": "SHtO78CKFvJj",
        "outputId": "9d360b0c-7204-47c4-d5d7-7635ee7015d6"
      },
      "source": [
        "bb.dtypes.T"
      ],
      "execution_count": null,
      "outputs": [
        {
          "output_type": "execute_result",
          "data": {
            "text/plain": [
              "Language                               object\n",
              "Season Number                           int64\n",
              "Name                                   object\n",
              "Profession                             object\n",
              "Gender                                 object\n",
              "Entry Date                             object\n",
              "Elimination Date                       object\n",
              "Elimination Week Number               float64\n",
              "Wild Card                              object\n",
              "Season Length                           int64\n",
              "Number of Housemates                    int64\n",
              "Season Start Date                      object\n",
              "Season End Date                        object\n",
              "Host Name                              object\n",
              "Guest Host Name                        object\n",
              "Prize Money (INR)                      object\n",
              "Broadcasted By                         object\n",
              "Average TRP                           float64\n",
              "Number of Evictions Faced             float64\n",
              "Number of re-entries                  float64\n",
              "Number of times elected as Captain    float64\n",
              "Social Media Popularity               float64\n",
              "Finalist                              float64\n",
              "Winner                                float64\n",
              "dtype: object"
            ]
          },
          "metadata": {
            "tags": []
          },
          "execution_count": 157
        }
      ]
    },
    {
      "cell_type": "markdown",
      "metadata": {
        "id": "Yebj10VKqVkj"
      },
      "source": [
        "### Data Cleaning (Null Values)"
      ]
    },
    {
      "cell_type": "code",
      "metadata": {
        "colab": {
          "base_uri": "https://localhost:8080/"
        },
        "id": "hRuj6gfprpoz",
        "outputId": "6f4c425f-13ff-4550-904b-f1b64e17318c"
      },
      "source": [
        "bb.isnull().values.any()"
      ],
      "execution_count": null,
      "outputs": [
        {
          "output_type": "execute_result",
          "data": {
            "text/plain": [
              "True"
            ]
          },
          "metadata": {
            "tags": []
          },
          "execution_count": 227
        }
      ]
    },
    {
      "cell_type": "code",
      "metadata": {
        "colab": {
          "base_uri": "https://localhost:8080/"
        },
        "id": "JBBO9xt4ct6X",
        "outputId": "d05c5b1b-2117-4e20-f53b-d8d03bb4020f"
      },
      "source": [
        "bb.isnull().sum()"
      ],
      "execution_count": null,
      "outputs": [
        {
          "output_type": "execute_result",
          "data": {
            "text/plain": [
              "Language                                0\n",
              "Season Number                           0\n",
              "Name                                    0\n",
              "Profession                              0\n",
              "Gender                                  0\n",
              "Entry Date                             99\n",
              "Elimination Date                      500\n",
              "Elimination Week Number               108\n",
              "Wild Card                               0\n",
              "Season Length                           0\n",
              "Number of Housemates                    0\n",
              "Season Start Date                       0\n",
              "Season End Date                         0\n",
              "Host Name                               0\n",
              "Guest Host Name                       559\n",
              "Prize Money (INR)                       9\n",
              "Broadcasted By                          0\n",
              "Average TRP                           238\n",
              "Number of Evictions Faced              18\n",
              "Number of re-entries                   18\n",
              "Number of times elected as Captain     33\n",
              "Social Media Popularity               546\n",
              "Finalist                                9\n",
              "Winner                                  9\n",
              "dtype: int64"
            ]
          },
          "metadata": {
            "tags": []
          },
          "execution_count": 11
        }
      ]
    },
    {
      "cell_type": "code",
      "metadata": {
        "colab": {
          "base_uri": "https://localhost:8080/"
        },
        "id": "YKDpEOBmtNQP",
        "outputId": "19b971bb-c3fe-47df-8fbe-f474ad7a02fd"
      },
      "source": [
        "bb.isnull().sum().sum()"
      ],
      "execution_count": null,
      "outputs": [
        {
          "output_type": "execute_result",
          "data": {
            "text/plain": [
              "2146"
            ]
          },
          "metadata": {
            "tags": []
          },
          "execution_count": 14
        }
      ]
    },
    {
      "cell_type": "code",
      "metadata": {
        "id": "CGRJdnk9taM-"
      },
      "source": [
        "# Contestant might have faced at least one eviction, so filling NaN with 'Number of Evictions Faced' with 1\r\n",
        "bb['Number of Evictions Faced'] = bb['Number of Evictions Faced'].fillna(1)\r\n",
        "\r\n",
        "# Number of re-entries are very less, so filling NULLs in 'Number of re-entries' with 0\r\n",
        "bb['Number of re-entries'] = bb['Number of re-entries'].fillna(0)\r\n",
        "\r\n",
        "# Filling blank values in 'Average TRP' column with average\r\n",
        "bb['Average TRP'] = bb['Average TRP'].fillna(bb['Average TRP'].mean())\r\n",
        "\r\n",
        "# Filling blank Social Media Popularity values with average\r\n",
        "bb['Social Media Popularity'] = bb['Social Media Popularity'].fillna(round(bb['Social Media Popularity'].mean()))\r\n",
        "\r\n",
        "# Filling blank values for Winner with 0\r\n",
        "bb['Winner'] = bb['Winner'].fillna(0)\r\n",
        "\r\n",
        "# Filling blank values for Winner with 0\r\n",
        "bb['Finalist'] = bb['Finalist'].fillna(0)\r\n",
        "\r\n",
        "# Filling blank values for Number of times elected as Captain with 0\r\n",
        "bb['Number of times elected as Captain'] = bb['Number of times elected as Captain'].fillna(0)\r\n",
        "\r\n",
        "# Filling null values for Elimination Week Number \r\n",
        "bb['Elimination Week Number'] = bb['Elimination Week Number'].fillna(bb[\"Elimination Week Number\"].mean())"
      ],
      "execution_count": null,
      "outputs": []
    },
    {
      "cell_type": "markdown",
      "metadata": {
        "id": "5AgpMfQUqEiN"
      },
      "source": [
        "### Changing the datatypes"
      ]
    },
    {
      "cell_type": "code",
      "metadata": {
        "id": "Kmvcnyo0PmbP"
      },
      "source": [
        "bb = bb.astype({'Elimination Week Number':'int64','Number of Evictions Faced':'int64','Number of re-entries':'int64',\r\n",
        "                'Number of times elected as Captain':'int64','Social Media Popularity':'object','Winner':'object',\r\n",
        "                'Finalist':'object','Entry Date':'Datetime64','Season Start Date':'Datetime64','Season End Date':'Datetime64'}) "
      ],
      "execution_count": null,
      "outputs": []
    },
    {
      "cell_type": "code",
      "metadata": {
        "colab": {
          "base_uri": "https://localhost:8080/"
        },
        "id": "9H7adfyTrEV9",
        "outputId": "6a37d32b-91b9-478a-c062-7f914d5ae79c"
      },
      "source": [
        "bb.dtypes.T"
      ],
      "execution_count": null,
      "outputs": [
        {
          "output_type": "execute_result",
          "data": {
            "text/plain": [
              "Language                               object\n",
              "Season Number                           int64\n",
              "Name                                   object\n",
              "Profession                             object\n",
              "Gender                                 object\n",
              "Elimination Week Number                 int64\n",
              "Wild Card                              object\n",
              "Season Length                           int64\n",
              "Number of Housemates                    int64\n",
              "Host Name                              object\n",
              "Guest Host Name                        object\n",
              "Broadcasted By                         object\n",
              "Average TRP                           float64\n",
              "Number of Evictions Faced               int64\n",
              "Number of re-entries                    int64\n",
              "Number of times elected as Captain      int64\n",
              "Social Media Popularity                 int64\n",
              "Finalist                               object\n",
              "Winner                                 object\n",
              "dtype: object"
            ]
          },
          "metadata": {
            "tags": []
          },
          "execution_count": 20
        }
      ]
    },
    {
      "cell_type": "markdown",
      "metadata": {
        "id": "9ivH8oaTzHe8"
      },
      "source": [
        "# Statistical Summmary"
      ]
    },
    {
      "cell_type": "code",
      "metadata": {
        "id": "A5EpFQe91Tc9"
      },
      "source": [
        "# dropping few columns as it is not useful for analysis\r\n",
        "\r\n",
        "bb = bb.drop(['Season Start Date','Season End Date', 'Entry Date','Elimination Date','Prize Money (INR)'], axis = 1)"
      ],
      "execution_count": null,
      "outputs": []
    },
    {
      "cell_type": "code",
      "metadata": {
        "colab": {
          "base_uri": "https://localhost:8080/",
          "height": 390
        },
        "id": "wC88n3y7sX91",
        "outputId": "ea625ddb-476b-455a-b12d-277fa980491a"
      },
      "source": [
        "bb.describe(include = 'object').T\r\n",
        "\r\n",
        "##The output gives:\r\n",
        "##count: number of values other than NaN\r\n",
        "##unique: number of unique values present in the variable\r\n",
        "##top: most repeated value\r\n",
        "##frequency: frequency of most repeated value"
      ],
      "execution_count": null,
      "outputs": [
        {
          "output_type": "execute_result",
          "data": {
            "text/html": [
              "<div>\n",
              "<style scoped>\n",
              "    .dataframe tbody tr th:only-of-type {\n",
              "        vertical-align: middle;\n",
              "    }\n",
              "\n",
              "    .dataframe tbody tr th {\n",
              "        vertical-align: top;\n",
              "    }\n",
              "\n",
              "    .dataframe thead th {\n",
              "        text-align: right;\n",
              "    }\n",
              "</style>\n",
              "<table border=\"1\" class=\"dataframe\">\n",
              "  <thead>\n",
              "    <tr style=\"text-align: right;\">\n",
              "      <th></th>\n",
              "      <th>count</th>\n",
              "      <th>unique</th>\n",
              "      <th>top</th>\n",
              "      <th>freq</th>\n",
              "    </tr>\n",
              "  </thead>\n",
              "  <tbody>\n",
              "    <tr>\n",
              "      <th>Language</th>\n",
              "      <td>632</td>\n",
              "      <td>7</td>\n",
              "      <td>Hindi</td>\n",
              "      <td>258</td>\n",
              "    </tr>\n",
              "    <tr>\n",
              "      <th>Name</th>\n",
              "      <td>632</td>\n",
              "      <td>625</td>\n",
              "      <td>Vikas Gupta</td>\n",
              "      <td>3</td>\n",
              "    </tr>\n",
              "    <tr>\n",
              "      <th>Profession</th>\n",
              "      <td>632</td>\n",
              "      <td>74</td>\n",
              "      <td>Actress</td>\n",
              "      <td>146</td>\n",
              "    </tr>\n",
              "    <tr>\n",
              "      <th>Gender</th>\n",
              "      <td>632</td>\n",
              "      <td>3</td>\n",
              "      <td>Female</td>\n",
              "      <td>331</td>\n",
              "    </tr>\n",
              "    <tr>\n",
              "      <th>Wild Card</th>\n",
              "      <td>632</td>\n",
              "      <td>2</td>\n",
              "      <td>No</td>\n",
              "      <td>522</td>\n",
              "    </tr>\n",
              "    <tr>\n",
              "      <th>Host Name</th>\n",
              "      <td>632</td>\n",
              "      <td>12</td>\n",
              "      <td>Salman Khan</td>\n",
              "      <td>213</td>\n",
              "    </tr>\n",
              "    <tr>\n",
              "      <th>Guest Host Name</th>\n",
              "      <td>73</td>\n",
              "      <td>4</td>\n",
              "      <td>Farah Khan</td>\n",
              "      <td>19</td>\n",
              "    </tr>\n",
              "    <tr>\n",
              "      <th>Broadcasted By</th>\n",
              "      <td>632</td>\n",
              "      <td>11</td>\n",
              "      <td>Colors</td>\n",
              "      <td>243</td>\n",
              "    </tr>\n",
              "    <tr>\n",
              "      <th>Social Media Popularity</th>\n",
              "      <td>632</td>\n",
              "      <td>8</td>\n",
              "      <td>7</td>\n",
              "      <td>566</td>\n",
              "    </tr>\n",
              "    <tr>\n",
              "      <th>Finalist</th>\n",
              "      <td>632</td>\n",
              "      <td>2</td>\n",
              "      <td>0</td>\n",
              "      <td>484</td>\n",
              "    </tr>\n",
              "    <tr>\n",
              "      <th>Winner</th>\n",
              "      <td>632</td>\n",
              "      <td>2</td>\n",
              "      <td>0</td>\n",
              "      <td>599</td>\n",
              "    </tr>\n",
              "  </tbody>\n",
              "</table>\n",
              "</div>"
            ],
            "text/plain": [
              "                        count unique          top freq\n",
              "Language                  632      7        Hindi  258\n",
              "Name                      632    625  Vikas Gupta    3\n",
              "Profession                632     74      Actress  146\n",
              "Gender                    632      3       Female  331\n",
              "Wild Card                 632      2           No  522\n",
              "Host Name                 632     12  Salman Khan  213\n",
              "Guest Host Name            73      4   Farah Khan   19\n",
              "Broadcasted By            632     11       Colors  243\n",
              "Social Media Popularity   632      8            7  566\n",
              "Finalist                  632      2            0  484\n",
              "Winner                    632      2            0  599"
            ]
          },
          "metadata": {
            "tags": []
          },
          "execution_count": 33
        }
      ]
    },
    {
      "cell_type": "code",
      "metadata": {
        "colab": {
          "base_uri": "https://localhost:8080/",
          "height": 297
        },
        "id": "uSWi21TAsQHi",
        "outputId": "794846c8-876d-4fda-ca51-de4ed1636dfc"
      },
      "source": [
        "bb.describe().T"
      ],
      "execution_count": null,
      "outputs": [
        {
          "output_type": "execute_result",
          "data": {
            "text/html": [
              "<div>\n",
              "<style scoped>\n",
              "    .dataframe tbody tr th:only-of-type {\n",
              "        vertical-align: middle;\n",
              "    }\n",
              "\n",
              "    .dataframe tbody tr th {\n",
              "        vertical-align: top;\n",
              "    }\n",
              "\n",
              "    .dataframe thead th {\n",
              "        text-align: right;\n",
              "    }\n",
              "</style>\n",
              "<table border=\"1\" class=\"dataframe\">\n",
              "  <thead>\n",
              "    <tr style=\"text-align: right;\">\n",
              "      <th></th>\n",
              "      <th>count</th>\n",
              "      <th>mean</th>\n",
              "      <th>std</th>\n",
              "      <th>min</th>\n",
              "      <th>25%</th>\n",
              "      <th>50%</th>\n",
              "      <th>75%</th>\n",
              "      <th>max</th>\n",
              "    </tr>\n",
              "  </thead>\n",
              "  <tbody>\n",
              "    <tr>\n",
              "      <th>Season Number</th>\n",
              "      <td>632.0</td>\n",
              "      <td>4.908228</td>\n",
              "      <td>3.833433</td>\n",
              "      <td>1.00</td>\n",
              "      <td>2.0</td>\n",
              "      <td>4.000000</td>\n",
              "      <td>7.0</td>\n",
              "      <td>14.0</td>\n",
              "    </tr>\n",
              "    <tr>\n",
              "      <th>Elimination Week Number</th>\n",
              "      <td>632.0</td>\n",
              "      <td>7.574367</td>\n",
              "      <td>5.501837</td>\n",
              "      <td>0.00</td>\n",
              "      <td>2.0</td>\n",
              "      <td>8.000000</td>\n",
              "      <td>13.0</td>\n",
              "      <td>20.0</td>\n",
              "    </tr>\n",
              "    <tr>\n",
              "      <th>Season Length</th>\n",
              "      <td>632.0</td>\n",
              "      <td>102.208861</td>\n",
              "      <td>10.657648</td>\n",
              "      <td>70.00</td>\n",
              "      <td>98.0</td>\n",
              "      <td>105.000000</td>\n",
              "      <td>105.0</td>\n",
              "      <td>140.0</td>\n",
              "    </tr>\n",
              "    <tr>\n",
              "      <th>Number of Housemates</th>\n",
              "      <td>632.0</td>\n",
              "      <td>18.303797</td>\n",
              "      <td>2.131074</td>\n",
              "      <td>15.00</td>\n",
              "      <td>17.0</td>\n",
              "      <td>18.000000</td>\n",
              "      <td>20.0</td>\n",
              "      <td>23.0</td>\n",
              "    </tr>\n",
              "    <tr>\n",
              "      <th>Average TRP</th>\n",
              "      <td>632.0</td>\n",
              "      <td>6.230635</td>\n",
              "      <td>2.627777</td>\n",
              "      <td>2.72</td>\n",
              "      <td>4.4</td>\n",
              "      <td>6.230635</td>\n",
              "      <td>6.5</td>\n",
              "      <td>15.6</td>\n",
              "    </tr>\n",
              "    <tr>\n",
              "      <th>Number of Evictions Faced</th>\n",
              "      <td>632.0</td>\n",
              "      <td>3.968354</td>\n",
              "      <td>2.872176</td>\n",
              "      <td>0.00</td>\n",
              "      <td>1.0</td>\n",
              "      <td>3.000000</td>\n",
              "      <td>6.0</td>\n",
              "      <td>13.0</td>\n",
              "    </tr>\n",
              "    <tr>\n",
              "      <th>Number of re-entries</th>\n",
              "      <td>632.0</td>\n",
              "      <td>0.099684</td>\n",
              "      <td>0.325172</td>\n",
              "      <td>0.00</td>\n",
              "      <td>0.0</td>\n",
              "      <td>0.000000</td>\n",
              "      <td>0.0</td>\n",
              "      <td>3.0</td>\n",
              "    </tr>\n",
              "    <tr>\n",
              "      <th>Number of times elected as Captain</th>\n",
              "      <td>632.0</td>\n",
              "      <td>0.509494</td>\n",
              "      <td>0.748949</td>\n",
              "      <td>0.00</td>\n",
              "      <td>0.0</td>\n",
              "      <td>0.000000</td>\n",
              "      <td>1.0</td>\n",
              "      <td>5.0</td>\n",
              "    </tr>\n",
              "  </tbody>\n",
              "</table>\n",
              "</div>"
            ],
            "text/plain": [
              "                                    count        mean  ...    75%    max\n",
              "Season Number                       632.0    4.908228  ...    7.0   14.0\n",
              "Elimination Week Number             632.0    7.574367  ...   13.0   20.0\n",
              "Season Length                       632.0  102.208861  ...  105.0  140.0\n",
              "Number of Housemates                632.0   18.303797  ...   20.0   23.0\n",
              "Average TRP                         632.0    6.230635  ...    6.5   15.6\n",
              "Number of Evictions Faced           632.0    3.968354  ...    6.0   13.0\n",
              "Number of re-entries                632.0    0.099684  ...    0.0    3.0\n",
              "Number of times elected as Captain  632.0    0.509494  ...    1.0    5.0\n",
              "\n",
              "[8 rows x 8 columns]"
            ]
          },
          "metadata": {
            "tags": []
          },
          "execution_count": 35
        }
      ]
    },
    {
      "cell_type": "code",
      "metadata": {
        "colab": {
          "base_uri": "https://localhost:8080/"
        },
        "id": "bab04BsqBky4",
        "outputId": "ce13d771-527e-40f2-8d2e-413135f3dbe1"
      },
      "source": [
        "bb.head(3)"
      ],
      "execution_count": null,
      "outputs": [
        {
          "output_type": "execute_result",
          "data": {
            "text/html": [
              "<div>\n",
              "<style scoped>\n",
              "    .dataframe tbody tr th:only-of-type {\n",
              "        vertical-align: middle;\n",
              "    }\n",
              "\n",
              "    .dataframe tbody tr th {\n",
              "        vertical-align: top;\n",
              "    }\n",
              "\n",
              "    .dataframe thead th {\n",
              "        text-align: right;\n",
              "    }\n",
              "</style>\n",
              "<table border=\"1\" class=\"dataframe\">\n",
              "  <thead>\n",
              "    <tr style=\"text-align: right;\">\n",
              "      <th></th>\n",
              "      <th>Language</th>\n",
              "      <th>Season Number</th>\n",
              "      <th>Name</th>\n",
              "      <th>Profession</th>\n",
              "      <th>Gender</th>\n",
              "      <th>Elimination Week Number</th>\n",
              "      <th>Wild Card</th>\n",
              "      <th>Season Length</th>\n",
              "      <th>Number of Housemates</th>\n",
              "      <th>Host Name</th>\n",
              "      <th>Guest Host Name</th>\n",
              "      <th>Broadcasted By</th>\n",
              "      <th>Average TRP</th>\n",
              "      <th>Number of Evictions Faced</th>\n",
              "      <th>Number of re-entries</th>\n",
              "      <th>Number of times elected as Captain</th>\n",
              "      <th>Social Media Popularity</th>\n",
              "      <th>Finalist</th>\n",
              "      <th>Winner</th>\n",
              "    </tr>\n",
              "  </thead>\n",
              "  <tbody>\n",
              "    <tr>\n",
              "      <th>0</th>\n",
              "      <td>Hindi</td>\n",
              "      <td>1</td>\n",
              "      <td>Amit Sadh</td>\n",
              "      <td>Soap Actor</td>\n",
              "      <td>Male</td>\n",
              "      <td>10</td>\n",
              "      <td>No</td>\n",
              "      <td>86</td>\n",
              "      <td>15</td>\n",
              "      <td>Arshad Warsi</td>\n",
              "      <td>NaN</td>\n",
              "      <td>Sony TV</td>\n",
              "      <td>2.72</td>\n",
              "      <td>3</td>\n",
              "      <td>0</td>\n",
              "      <td>0</td>\n",
              "      <td>7</td>\n",
              "      <td>0</td>\n",
              "      <td>0</td>\n",
              "    </tr>\n",
              "    <tr>\n",
              "      <th>1</th>\n",
              "      <td>Hindi</td>\n",
              "      <td>1</td>\n",
              "      <td>Anupama Verma</td>\n",
              "      <td>Model</td>\n",
              "      <td>Female</td>\n",
              "      <td>5</td>\n",
              "      <td>No</td>\n",
              "      <td>86</td>\n",
              "      <td>15</td>\n",
              "      <td>Arshad Warsi</td>\n",
              "      <td>NaN</td>\n",
              "      <td>Sony TV</td>\n",
              "      <td>2.72</td>\n",
              "      <td>1</td>\n",
              "      <td>0</td>\n",
              "      <td>0</td>\n",
              "      <td>7</td>\n",
              "      <td>0</td>\n",
              "      <td>0</td>\n",
              "    </tr>\n",
              "    <tr>\n",
              "      <th>2</th>\n",
              "      <td>Hindi</td>\n",
              "      <td>1</td>\n",
              "      <td>Aryan Vaid</td>\n",
              "      <td>Pageant Winner</td>\n",
              "      <td>Male</td>\n",
              "      <td>4</td>\n",
              "      <td>No</td>\n",
              "      <td>86</td>\n",
              "      <td>15</td>\n",
              "      <td>Arshad Warsi</td>\n",
              "      <td>NaN</td>\n",
              "      <td>Sony TV</td>\n",
              "      <td>2.72</td>\n",
              "      <td>1</td>\n",
              "      <td>0</td>\n",
              "      <td>0</td>\n",
              "      <td>7</td>\n",
              "      <td>0</td>\n",
              "      <td>0</td>\n",
              "    </tr>\n",
              "  </tbody>\n",
              "</table>\n",
              "</div>"
            ],
            "text/plain": [
              "  Language  Season Number  ... Finalist Winner\n",
              "0    Hindi              1  ...        0      0\n",
              "1    Hindi              1  ...        0      0\n",
              "2    Hindi              1  ...        0      0\n",
              "\n",
              "[3 rows x 19 columns]"
            ]
          },
          "metadata": {
            "tags": []
          },
          "execution_count": 164
        }
      ]
    },
    {
      "cell_type": "code",
      "metadata": {
        "colab": {
          "base_uri": "https://localhost:8080/"
        },
        "id": "gX9UwOBGHuX3",
        "outputId": "a2d64d55-5345-455a-f002-87e357df580d"
      },
      "source": [
        "bb.tail(3)"
      ],
      "execution_count": null,
      "outputs": [
        {
          "output_type": "execute_result",
          "data": {
            "text/html": [
              "<div>\n",
              "<style scoped>\n",
              "    .dataframe tbody tr th:only-of-type {\n",
              "        vertical-align: middle;\n",
              "    }\n",
              "\n",
              "    .dataframe tbody tr th {\n",
              "        vertical-align: top;\n",
              "    }\n",
              "\n",
              "    .dataframe thead th {\n",
              "        text-align: right;\n",
              "    }\n",
              "</style>\n",
              "<table border=\"1\" class=\"dataframe\">\n",
              "  <thead>\n",
              "    <tr style=\"text-align: right;\">\n",
              "      <th></th>\n",
              "      <th>Language</th>\n",
              "      <th>Season Number</th>\n",
              "      <th>Name</th>\n",
              "      <th>Profession</th>\n",
              "      <th>Gender</th>\n",
              "      <th>Elimination Week Number</th>\n",
              "      <th>Wild Card</th>\n",
              "      <th>Season Length</th>\n",
              "      <th>Number of Housemates</th>\n",
              "      <th>Host Name</th>\n",
              "      <th>Guest Host Name</th>\n",
              "      <th>Broadcasted By</th>\n",
              "      <th>Average TRP</th>\n",
              "      <th>Number of Evictions Faced</th>\n",
              "      <th>Number of re-entries</th>\n",
              "      <th>Number of times elected as Captain</th>\n",
              "      <th>Social Media Popularity</th>\n",
              "      <th>Finalist</th>\n",
              "      <th>Winner</th>\n",
              "    </tr>\n",
              "  </thead>\n",
              "  <tbody>\n",
              "    <tr>\n",
              "      <th>629</th>\n",
              "      <td>Malayalam</td>\n",
              "      <td>2</td>\n",
              "      <td>Sooraj</td>\n",
              "      <td>Radio Jockey</td>\n",
              "      <td>Male</td>\n",
              "      <td>8</td>\n",
              "      <td>Yes</td>\n",
              "      <td>105</td>\n",
              "      <td>23</td>\n",
              "      <td>Mohanlal</td>\n",
              "      <td>NaN</td>\n",
              "      <td>Asianet</td>\n",
              "      <td>11.03</td>\n",
              "      <td>2</td>\n",
              "      <td>0</td>\n",
              "      <td>0</td>\n",
              "      <td>7</td>\n",
              "      <td>0</td>\n",
              "      <td>0</td>\n",
              "    </tr>\n",
              "    <tr>\n",
              "      <th>630</th>\n",
              "      <td>Malayalam</td>\n",
              "      <td>2</td>\n",
              "      <td>Abhirami Suresh</td>\n",
              "      <td>Actress</td>\n",
              "      <td>Female</td>\n",
              "      <td>0</td>\n",
              "      <td>Yes</td>\n",
              "      <td>105</td>\n",
              "      <td>23</td>\n",
              "      <td>Mohanlal</td>\n",
              "      <td>NaN</td>\n",
              "      <td>Asianet</td>\n",
              "      <td>11.03</td>\n",
              "      <td>3</td>\n",
              "      <td>0</td>\n",
              "      <td>0</td>\n",
              "      <td>7</td>\n",
              "      <td>0</td>\n",
              "      <td>0</td>\n",
              "    </tr>\n",
              "    <tr>\n",
              "      <th>631</th>\n",
              "      <td>Malayalam</td>\n",
              "      <td>2</td>\n",
              "      <td>Amrutha Suresh</td>\n",
              "      <td>Singer</td>\n",
              "      <td>Female</td>\n",
              "      <td>0</td>\n",
              "      <td>Yes</td>\n",
              "      <td>105</td>\n",
              "      <td>23</td>\n",
              "      <td>Mohanlal</td>\n",
              "      <td>NaN</td>\n",
              "      <td>Asianet</td>\n",
              "      <td>11.03</td>\n",
              "      <td>3</td>\n",
              "      <td>0</td>\n",
              "      <td>0</td>\n",
              "      <td>7</td>\n",
              "      <td>0</td>\n",
              "      <td>0</td>\n",
              "    </tr>\n",
              "  </tbody>\n",
              "</table>\n",
              "</div>"
            ],
            "text/plain": [
              "      Language  Season Number  ... Finalist Winner\n",
              "629  Malayalam              2  ...        0      0\n",
              "630  Malayalam              2  ...        0      0\n",
              "631  Malayalam              2  ...        0      0\n",
              "\n",
              "[3 rows x 19 columns]"
            ]
          },
          "metadata": {
            "tags": []
          },
          "execution_count": 165
        }
      ]
    },
    {
      "cell_type": "markdown",
      "metadata": {
        "id": "KpSTg4xUz1X3"
      },
      "source": [
        "# Descriptive Statistics"
      ]
    },
    {
      "cell_type": "code",
      "metadata": {
        "colab": {
          "base_uri": "https://localhost:8080/"
        },
        "id": "ZU5QF9_vHyXc",
        "outputId": "168796b2-6693-43de-d2bd-baea1e52b59c"
      },
      "source": [
        "bb.columns.values"
      ],
      "execution_count": null,
      "outputs": [
        {
          "output_type": "execute_result",
          "data": {
            "text/plain": [
              "array(['Language', 'Season Number', 'Name', 'Profession', 'Gender',\n",
              "       'Elimination Week Number', 'Wild Card', 'Season Length',\n",
              "       'Number of Housemates', 'Host Name', 'Guest Host Name',\n",
              "       'Broadcasted By', 'Average TRP', 'Number of Evictions Faced',\n",
              "       'Number of re-entries', 'Number of times elected as Captain',\n",
              "       'Social Media Popularity', 'Finalist', 'Winner'], dtype=object)"
            ]
          },
          "metadata": {
            "tags": []
          },
          "execution_count": 166
        }
      ]
    },
    {
      "cell_type": "markdown",
      "metadata": {
        "id": "0v83o-nWHRXv"
      },
      "source": [
        "**Measure of Central Tendency**"
      ]
    },
    {
      "cell_type": "code",
      "metadata": {
        "colab": {
          "base_uri": "https://localhost:8080/",
          "height": 390
        },
        "id": "AfvvDPNtz-ra",
        "outputId": "3b83d86e-27aa-4ed7-9981-d015fd30883a"
      },
      "source": [
        "# filter the categorical variables from the data\r\n",
        "bb_cat = bb.select_dtypes(include=object)\r\n",
        "\r\n",
        "# calculate the mode\r\n",
        "bb_cat.mode().T\r\n",
        "\r\n",
        "## Bimodal and Unimodal"
      ],
      "execution_count": null,
      "outputs": [
        {
          "output_type": "execute_result",
          "data": {
            "text/html": [
              "<div>\n",
              "<style scoped>\n",
              "    .dataframe tbody tr th:only-of-type {\n",
              "        vertical-align: middle;\n",
              "    }\n",
              "\n",
              "    .dataframe tbody tr th {\n",
              "        vertical-align: top;\n",
              "    }\n",
              "\n",
              "    .dataframe thead th {\n",
              "        text-align: right;\n",
              "    }\n",
              "</style>\n",
              "<table border=\"1\" class=\"dataframe\">\n",
              "  <thead>\n",
              "    <tr style=\"text-align: right;\">\n",
              "      <th></th>\n",
              "      <th>0</th>\n",
              "      <th>1</th>\n",
              "    </tr>\n",
              "  </thead>\n",
              "  <tbody>\n",
              "    <tr>\n",
              "      <th>Language</th>\n",
              "      <td>Hindi</td>\n",
              "      <td>NaN</td>\n",
              "    </tr>\n",
              "    <tr>\n",
              "      <th>Name</th>\n",
              "      <td>Vikas Gupta</td>\n",
              "      <td>NaN</td>\n",
              "    </tr>\n",
              "    <tr>\n",
              "      <th>Profession</th>\n",
              "      <td>Films</td>\n",
              "      <td>NaN</td>\n",
              "    </tr>\n",
              "    <tr>\n",
              "      <th>Gender</th>\n",
              "      <td>Female</td>\n",
              "      <td>NaN</td>\n",
              "    </tr>\n",
              "    <tr>\n",
              "      <th>Wild Card</th>\n",
              "      <td>No</td>\n",
              "      <td>NaN</td>\n",
              "    </tr>\n",
              "    <tr>\n",
              "      <th>Host Name</th>\n",
              "      <td>Salman Khan</td>\n",
              "      <td>NaN</td>\n",
              "    </tr>\n",
              "    <tr>\n",
              "      <th>Guest Host Name</th>\n",
              "      <td>Farah Khan</td>\n",
              "      <td>Samantha Akkineni</td>\n",
              "    </tr>\n",
              "    <tr>\n",
              "      <th>Broadcasted By</th>\n",
              "      <td>Colors</td>\n",
              "      <td>NaN</td>\n",
              "    </tr>\n",
              "    <tr>\n",
              "      <th>Social Media Popularity</th>\n",
              "      <td>7</td>\n",
              "      <td>NaN</td>\n",
              "    </tr>\n",
              "    <tr>\n",
              "      <th>Finalist</th>\n",
              "      <td>0</td>\n",
              "      <td>NaN</td>\n",
              "    </tr>\n",
              "    <tr>\n",
              "      <th>Winner</th>\n",
              "      <td>0</td>\n",
              "      <td>NaN</td>\n",
              "    </tr>\n",
              "  </tbody>\n",
              "</table>\n",
              "</div>"
            ],
            "text/plain": [
              "                                   0                  1\n",
              "Language                       Hindi                NaN\n",
              "Name                     Vikas Gupta                NaN\n",
              "Profession                     Films                NaN\n",
              "Gender                        Female                NaN\n",
              "Wild Card                         No                NaN\n",
              "Host Name                Salman Khan                NaN\n",
              "Guest Host Name           Farah Khan  Samantha Akkineni\n",
              "Broadcasted By                Colors                NaN\n",
              "Social Media Popularity            7                NaN\n",
              "Finalist                           0                NaN\n",
              "Winner                             0                NaN"
            ]
          },
          "metadata": {
            "tags": []
          },
          "execution_count": 66
        }
      ]
    },
    {
      "cell_type": "code",
      "metadata": {
        "colab": {
          "base_uri": "https://localhost:8080/",
          "height": 298
        },
        "id": "nKCA7Q_M2bZT",
        "outputId": "88f2d34f-41ee-4222-c000-86e9bbd6224a"
      },
      "source": [
        "bb.loc[bb.Name == 'Vikas Gupta'] ## checking why Vikas Gupta name has higher frequency ##"
      ],
      "execution_count": null,
      "outputs": [
        {
          "output_type": "execute_result",
          "data": {
            "text/html": [
              "<div>\n",
              "<style scoped>\n",
              "    .dataframe tbody tr th:only-of-type {\n",
              "        vertical-align: middle;\n",
              "    }\n",
              "\n",
              "    .dataframe tbody tr th {\n",
              "        vertical-align: top;\n",
              "    }\n",
              "\n",
              "    .dataframe thead th {\n",
              "        text-align: right;\n",
              "    }\n",
              "</style>\n",
              "<table border=\"1\" class=\"dataframe\">\n",
              "  <thead>\n",
              "    <tr style=\"text-align: right;\">\n",
              "      <th></th>\n",
              "      <th>Language</th>\n",
              "      <th>Season Number</th>\n",
              "      <th>Name</th>\n",
              "      <th>Profession</th>\n",
              "      <th>Gender</th>\n",
              "      <th>Elimination Week Number</th>\n",
              "      <th>Wild Card</th>\n",
              "      <th>Season Length</th>\n",
              "      <th>Number of Housemates</th>\n",
              "      <th>Host Name</th>\n",
              "      <th>Guest Host Name</th>\n",
              "      <th>Broadcasted By</th>\n",
              "      <th>Average TRP</th>\n",
              "      <th>Number of Evictions Faced</th>\n",
              "      <th>Number of re-entries</th>\n",
              "      <th>Number of times elected as Captain</th>\n",
              "      <th>Social Media Popularity</th>\n",
              "      <th>Finalist</th>\n",
              "      <th>Winner</th>\n",
              "    </tr>\n",
              "  </thead>\n",
              "  <tbody>\n",
              "    <tr>\n",
              "      <th>191</th>\n",
              "      <td>Hindi</td>\n",
              "      <td>11</td>\n",
              "      <td>Vikas Gupta</td>\n",
              "      <td>Producer</td>\n",
              "      <td>Male</td>\n",
              "      <td>15</td>\n",
              "      <td>No</td>\n",
              "      <td>106</td>\n",
              "      <td>19</td>\n",
              "      <td>Salman Khan</td>\n",
              "      <td>NaN</td>\n",
              "      <td>Colors</td>\n",
              "      <td>7.640000</td>\n",
              "      <td>5</td>\n",
              "      <td>0</td>\n",
              "      <td>2</td>\n",
              "      <td>6</td>\n",
              "      <td>1</td>\n",
              "      <td>0</td>\n",
              "    </tr>\n",
              "    <tr>\n",
              "      <th>235</th>\n",
              "      <td>Hindi</td>\n",
              "      <td>13</td>\n",
              "      <td>Vikas Gupta</td>\n",
              "      <td>Producer</td>\n",
              "      <td>Male</td>\n",
              "      <td>13</td>\n",
              "      <td>Yes</td>\n",
              "      <td>140</td>\n",
              "      <td>22</td>\n",
              "      <td>Salman Khan</td>\n",
              "      <td>NaN</td>\n",
              "      <td>Colors</td>\n",
              "      <td>9.060000</td>\n",
              "      <td>0</td>\n",
              "      <td>0</td>\n",
              "      <td>1</td>\n",
              "      <td>7</td>\n",
              "      <td>0</td>\n",
              "      <td>0</td>\n",
              "    </tr>\n",
              "    <tr>\n",
              "      <th>252</th>\n",
              "      <td>Hindi</td>\n",
              "      <td>14</td>\n",
              "      <td>Vikas Gupta</td>\n",
              "      <td>Producer</td>\n",
              "      <td>Male</td>\n",
              "      <td>0</td>\n",
              "      <td>Yes</td>\n",
              "      <td>105</td>\n",
              "      <td>22</td>\n",
              "      <td>Salman Khan</td>\n",
              "      <td>NaN</td>\n",
              "      <td>Colors</td>\n",
              "      <td>6.230635</td>\n",
              "      <td>1</td>\n",
              "      <td>3</td>\n",
              "      <td>0</td>\n",
              "      <td>7</td>\n",
              "      <td>0</td>\n",
              "      <td>0</td>\n",
              "    </tr>\n",
              "  </tbody>\n",
              "</table>\n",
              "</div>"
            ],
            "text/plain": [
              "    Language  Season Number  ... Finalist Winner\n",
              "191    Hindi             11  ...        1      0\n",
              "235    Hindi             13  ...        0      0\n",
              "252    Hindi             14  ...        0      0\n",
              "\n",
              "[3 rows x 19 columns]"
            ]
          },
          "metadata": {
            "tags": []
          },
          "execution_count": 168
        }
      ]
    },
    {
      "cell_type": "code",
      "metadata": {
        "colab": {
          "base_uri": "https://localhost:8080/",
          "height": 692
        },
        "id": "tGGOVPzpBW7J",
        "outputId": "76d48701-5a28-4344-dd02-47433c62605b"
      },
      "source": [
        "bb_cat1 = bb_cat[['Profession','Gender','Winner','Finalist','Wild Card', 'Guest Host Name']]\r\n",
        "\r\n",
        "fig, ax = plt.subplots(2, 3, figsize=(15, 10))\r\n",
        "for variable, subplot in zip(bb_cat1, ax.flatten()):\r\n",
        "    sns.countplot(bb_cat[variable], ax=subplot)\r\n",
        "    for label in subplot.get_xticklabels():\r\n",
        "        label.set_rotation(90)"
      ],
      "execution_count": null,
      "outputs": [
        {
          "output_type": "display_data",
          "data": {
            "image/png": "[encoded data removed]",
            "text/plain": [
              "<Figure size 1080x720 with 6 Axes>"
            ]
          },
          "metadata": {
            "tags": [],
            "needs_background": "light"
          }
        }
      ]
    },
    {
      "cell_type": "markdown",
      "metadata": {
        "id": "1v2XI2RYHLWi"
      },
      "source": [
        "**Measure of Disperion**"
      ]
    },
    {
      "cell_type": "code",
      "metadata": {
        "id": "-Khga0Hn4vsg"
      },
      "source": [
        "# filter the numerical variables from the data\r\n",
        "bb_num = bb.select_dtypes(include=np.number)\r\n",
        "\r\n"
      ],
      "execution_count": null,
      "outputs": []
    },
    {
      "cell_type": "code",
      "metadata": {
        "colab": {
          "base_uri": "https://localhost:8080/"
        },
        "id": "FUYBEtUj4-YW",
        "outputId": "eaefd64f-517a-4c1c-d97c-b42e5bfc0dfd"
      },
      "source": [
        "## Mean ##\r\n",
        "bb_num.mean()"
      ],
      "execution_count": null,
      "outputs": [
        {
          "output_type": "execute_result",
          "data": {
            "text/plain": [
              "Season Number                           4.908228\n",
              "Elimination Week Number                 7.574367\n",
              "Season Length                         102.208861\n",
              "Number of Housemates                   18.303797\n",
              "Average TRP                             6.230635\n",
              "Number of Evictions Faced               3.968354\n",
              "Number of re-entries                    0.099684\n",
              "Number of times elected as Captain      0.509494\n",
              "Social Media Popularity                 6.944620\n",
              "dtype: float64"
            ]
          },
          "metadata": {
            "tags": []
          },
          "execution_count": 170
        }
      ]
    },
    {
      "cell_type": "code",
      "metadata": {
        "colab": {
          "base_uri": "https://localhost:8080/"
        },
        "id": "rPKpUhwnEWqG",
        "outputId": "4b3991a8-f582-48d7-cdca-9a4a8a8c5ecd"
      },
      "source": [
        "## Standard Deviation ##\r\n",
        "bb_num.std()"
      ],
      "execution_count": null,
      "outputs": [
        {
          "output_type": "execute_result",
          "data": {
            "text/plain": [
              "Season Number                          3.833433\n",
              "Elimination Week Number                5.501837\n",
              "Season Length                         10.657648\n",
              "Number of Housemates                   2.131074\n",
              "Average TRP                            2.627777\n",
              "Number of Evictions Faced              2.872176\n",
              "Number of re-entries                   0.325172\n",
              "Number of times elected as Captain     0.748949\n",
              "Social Media Popularity                0.610346\n",
              "dtype: float64"
            ]
          },
          "metadata": {
            "tags": []
          },
          "execution_count": 171
        }
      ]
    },
    {
      "cell_type": "code",
      "metadata": {
        "colab": {
          "base_uri": "https://localhost:8080/"
        },
        "id": "3Rb0PfLEEiRm",
        "outputId": "a30f59e6-7cf2-4199-f02e-28b816a9f56b"
      },
      "source": [
        "## Median ##\r\n",
        "bb_num.median()"
      ],
      "execution_count": null,
      "outputs": [
        {
          "output_type": "execute_result",
          "data": {
            "text/plain": [
              "Season Number                           4.000000\n",
              "Elimination Week Number                 8.000000\n",
              "Season Length                         105.000000\n",
              "Number of Housemates                   18.000000\n",
              "Average TRP                             6.230635\n",
              "Number of Evictions Faced               3.000000\n",
              "Number of re-entries                    0.000000\n",
              "Number of times elected as Captain      0.000000\n",
              "Social Media Popularity                 7.000000\n",
              "dtype: float64"
            ]
          },
          "metadata": {
            "tags": []
          },
          "execution_count": 172
        }
      ]
    },
    {
      "cell_type": "code",
      "metadata": {
        "id": "UF6o5wJmJEiT"
      },
      "source": [
        ""
      ],
      "execution_count": null,
      "outputs": []
    },
    {
      "cell_type": "markdown",
      "metadata": {
        "id": "QcDeV9ejJJid"
      },
      "source": [
        "**Distribution of Data**"
      ]
    },
    {
      "cell_type": "code",
      "metadata": {
        "colab": {
          "base_uri": "https://localhost:8080/",
          "height": 450
        },
        "id": "_5srJ24OHnZI",
        "outputId": "ffc49cbb-d1e7-423e-8cf6-b99798cf5809"
      },
      "source": [
        "bb_num.plot(kind='density',subplots=True,sharex=False,layout=(4,3),figsize=(15,10))\r\n",
        "plt.show()"
      ],
      "execution_count": null,
      "outputs": [
        {
          "output_type": "display_data",
          "data": {
            "image/png": "[encoded data removed]",
            "text/plain": [
              "<Figure size 1080x720 with 12 Axes>"
            ]
          },
          "metadata": {
            "tags": [],
            "needs_background": "light"
          }
        }
      ]
    },
    {
      "cell_type": "markdown",
      "metadata": {
        "id": "11a0EEBpI4w7"
      },
      "source": [
        "**Skewness & Kurtosis**"
      ]
    },
    {
      "cell_type": "code",
      "metadata": {
        "colab": {
          "base_uri": "https://localhost:8080/"
        },
        "id": "kH4Y8tQ4InG6",
        "outputId": "c74e6889-5ec3-4a22-c3d0-0a1d3683aa74"
      },
      "source": [
        "bb_num.skew()"
      ],
      "execution_count": null,
      "outputs": [
        {
          "output_type": "execute_result",
          "data": {
            "text/plain": [
              "Season Number                         0.957377\n",
              "Elimination Week Number               0.041765\n",
              "Season Length                         0.678514\n",
              "Number of Housemates                  0.202793\n",
              "Average TRP                           1.334841\n",
              "Number of Evictions Faced             0.835795\n",
              "Number of re-entries                  3.626119\n",
              "Number of times elected as Captain    1.738601\n",
              "Social Media Popularity              -2.278360\n",
              "dtype: float64"
            ]
          },
          "metadata": {
            "tags": []
          },
          "execution_count": 174
        }
      ]
    },
    {
      "cell_type": "code",
      "metadata": {
        "colab": {
          "base_uri": "https://localhost:8080/"
        },
        "id": "V0hfzpQ6IyUe",
        "outputId": "c136de67-ce65-429d-ca39-e3ce22722040"
      },
      "source": [
        "bb_num.kurt()"
      ],
      "execution_count": null,
      "outputs": [
        {
          "output_type": "execute_result",
          "data": {
            "text/plain": [
              "Season Number                         -0.211486\n",
              "Elimination Week Number               -1.297932\n",
              "Season Length                          5.149473\n",
              "Number of Housemates                  -0.478670\n",
              "Average TRP                            2.758878\n",
              "Number of Evictions Faced             -0.043675\n",
              "Number of re-entries                  16.117140\n",
              "Number of times elected as Captain     4.104004\n",
              "Social Media Popularity               21.110185\n",
              "dtype: float64"
            ]
          },
          "metadata": {
            "tags": []
          },
          "execution_count": 175
        }
      ]
    },
    {
      "cell_type": "markdown",
      "metadata": {
        "id": "zwrHF5ukzBVk"
      },
      "source": [
        "**Data Preperation**"
      ]
    },
    {
      "cell_type": "markdown",
      "metadata": {
        "id": "cgPsYwr1za1X"
      },
      "source": [
        "Narrowing of Profession column"
      ]
    },
    {
      "cell_type": "code",
      "metadata": {
        "id": "snLUKgvvu96y"
      },
      "source": [
        "## before narrowing down\r\n",
        "bb.groupby(bb.Profession)['Profession'].count()"
      ],
      "execution_count": null,
      "outputs": []
    },
    {
      "cell_type": "code",
      "metadata": {
        "id": "DbllNXe7Roob"
      },
      "source": [
        "# Common people have many professions, so clubbing them into one category\r\n",
        "bb.loc[bb['Profession'].str.contains('Commoner'),'Profession']='Commoner'"
      ],
      "execution_count": null,
      "outputs": []
    },
    {
      "cell_type": "code",
      "metadata": {
        "id": "lAHj87ai25Ai"
      },
      "source": [
        "bb['Profession'] = bb['Profession'].replace(['Wrestler','Sports Person'],'Sports')\r\n",
        "bb['Profession'] = bb['Profession'].replace(['Peagent Winner'],'Model')\r\n",
        "bb['Profession'] = bb['Profession'].replace(['Soap Actor','Soap Actress','Comedian','TV Anchor','Video Jockey','Reality Show Alumni'],'Television')\r\n",
        "bb['Profession'] = bb['Profession'].replace(['International Star','International star'],'International')\r\n",
        "bb['Profession'] = bb['Profession'].replace(['Actress','Actor','Film director','Film Director','Film Critic','Lyricist','Writer'],'Films')\r\n",
        "bb['Profession'] = bb['Profession'].replace(['Dancer','Choreographer','Musician','Singer'],'Arts')\r\n",
        "bb['Profession'] = bb['Profession'].replace(['News Presenter','Journalist','Social Media Star','Radio Jockey'],'Media')\r\n",
        "bb['Profession'] = bb['Profession'].replace(['Politician','Political Analyst'],'Politics')"
      ],
      "execution_count": null,
      "outputs": []
    },
    {
      "cell_type": "code",
      "metadata": {
        "id": "txKMvI36-K2V"
      },
      "source": [
        "counts = bb['Profession'].value_counts()\r\n",
        "idx = counts[counts.lt(6)].index\r\n",
        "bb.loc[bb['Profession'].isin(idx), 'Profession'] = 'Others'"
      ],
      "execution_count": null,
      "outputs": []
    },
    {
      "cell_type": "code",
      "metadata": {
        "colab": {
          "base_uri": "https://localhost:8080/"
        },
        "id": "ZHcI3t8ntRj3",
        "outputId": "caf23457-b43f-48a1-bd84-b4978efc3ac7"
      },
      "source": [
        "## after narrowing down ##\r\n",
        "bb.groupby(bb.Profession)['Profession'].count()"
      ],
      "execution_count": null,
      "outputs": [
        {
          "output_type": "execute_result",
          "data": {
            "text/plain": [
              "Profession\n",
              "Arts              49\n",
              "Commoner          39\n",
              "Films            262\n",
              "International      7\n",
              "Media             38\n",
              "Model             49\n",
              "Others            42\n",
              "Politics           6\n",
              "Sports            10\n",
              "Television       130\n",
              "Name: Profession, dtype: int64"
            ]
          },
          "metadata": {
            "tags": []
          },
          "execution_count": 179
        }
      ]
    },
    {
      "cell_type": "markdown",
      "metadata": {
        "id": "fwdvFv9dlx0B"
      },
      "source": [
        "# Simulation \r\n",
        "\r\n",
        "# Central Limit Theorem"
      ]
    },
    {
      "cell_type": "code",
      "metadata": {
        "id": "-E8bS4_ohb64"
      },
      "source": [
        "def central_limit_theorem(df,column_names,n_samples = 1000, sample_size = 500):\r\n",
        "    min_value = 0 \r\n",
        "    max_value = df.count()  \r\n",
        "    b = {}\r\n",
        "    for i in range(n_samples):\r\n",
        "        x = np.unique(np.random.randint(min_value, max_value, size = sample_size)) \r\n",
        "        b[i] = df[x].mean()\r\n",
        "    c = pd.DataFrame()\r\n",
        "    c['sample'] = b.keys()   \r\n",
        "    c['Mean'] = b.values()  \r\n",
        "    plt.figure(figsize= (15,5))\r\n",
        "\r\n",
        "    plt.subplot(1,2,2)\r\n",
        "    sns.distplot(c.Mean,color='green')\r\n",
        "    plt.title(f\"Sampling Distribution. \\n \\u03bc = {round(c.Mean.mean(), 3)} & SE = {round(c.Mean.std(),3)}\")\r\n",
        "    plt.xlabel(column_names)\r\n",
        "    plt.ylabel('freq')\r\n",
        "\r\n",
        "    plt.subplot(1,2,1)\r\n",
        "    sns.distplot(df,color='red')\r\n",
        "    plt.title(f\"Population Distribution. \\n \\u03bc = {round(df.mean(), 3)} & \\u03C3 = {round(df.std(),3)}\")\r\n",
        "    plt.xlabel(column_names)\r\n",
        "    plt.ylabel('freq')\r\n",
        "\r\n",
        "    plt.show()\r\n",
        "series1 = bb[\"Number of Evictions Faced\"]\r\n"
      ],
      "execution_count": null,
      "outputs": []
    },
    {
      "cell_type": "markdown",
      "metadata": {
        "id": "H_S68_DOmgdB"
      },
      "source": [
        "Simulation with sample size = 20 and no of samples = 10"
      ]
    },
    {
      "cell_type": "code",
      "metadata": {
        "colab": {
          "base_uri": "https://localhost:8080/",
          "height": 365
        },
        "id": "GQTA--THh2iq",
        "outputId": "7bf20b04-6829-4561-a3a4-8afbb78a708f"
      },
      "source": [
        "central_limit_theorem(series1,'Numbe of Evictions Faced',n_samples = 10, sample_size = 20)"
      ],
      "execution_count": null,
      "outputs": [
        {
          "output_type": "display_data",
          "data": {
            "image/png": "[encoded data removed]",
            "text/plain": [
              "<Figure size 1080x360 with 2 Axes>"
            ]
          },
          "metadata": {
            "tags": []
          }
        }
      ]
    },
    {
      "cell_type": "markdown",
      "metadata": {
        "id": "-E7Ovp2cmWMR"
      },
      "source": [
        "Simulation with sample size = 100 and no of samples = 100"
      ]
    },
    {
      "cell_type": "code",
      "metadata": {
        "colab": {
          "base_uri": "https://localhost:8080/",
          "height": 365
        },
        "id": "Ttn_XEBJi_a0",
        "outputId": "bc00943d-d086-45a9-9645-210872c1e849"
      },
      "source": [
        "central_limit_theorem(series1,'Numbe of Evictions Faced',n_samples = 100, sample_size = 100)"
      ],
      "execution_count": null,
      "outputs": [
        {
          "output_type": "display_data",
          "data": {
            "image/png": "[encoded data removed]",
            "text/plain": [
              "<Figure size 1080x360 with 2 Axes>"
            ]
          },
          "metadata": {
            "tags": []
          }
        }
      ]
    },
    {
      "cell_type": "markdown",
      "metadata": {
        "id": "sRmqT8w-pUMw"
      },
      "source": [
        "# Hypothesis Testing"
      ]
    },
    {
      "cell_type": "markdown",
      "metadata": {
        "id": "kPjXlhBEXulc"
      },
      "source": [
        "## Shapiro Test"
      ]
    },
    {
      "cell_type": "markdown",
      "metadata": {
        "id": "mtHFnC60u_pW"
      },
      "source": [
        "### Null and Alternate Hypothesis\r\n",
        "\r\n",
        "H0: Number of Evictions Faced follow a Normal distribution\r\n",
        "\r\n",
        "H1: Number of Evictions Faced do not follow a Normal distribution\r\n",
        "\r\n"
      ]
    },
    {
      "cell_type": "code",
      "metadata": {
        "id": "TP_9dTe9v-vQ"
      },
      "source": [
        "n=100\r\n",
        "k=100\r\n",
        "means=[np.mean(bb[\"Number of Evictions Faced\"].sample(n)) for i in range(k)]"
      ],
      "execution_count": null,
      "outputs": []
    },
    {
      "cell_type": "markdown",
      "metadata": {
        "id": "7dTx_1Q1p4Xj"
      },
      "source": [
        "Perform Shapiro Test"
      ]
    },
    {
      "cell_type": "code",
      "metadata": {
        "colab": {
          "base_uri": "https://localhost:8080/"
        },
        "id": "MyFBQICau5KL",
        "outputId": "cc076961-042e-46c0-c8f4-b263cd1c2809"
      },
      "source": [
        "## Shapiro Test ##\r\n",
        "from scipy.stats import shapiro\r\n",
        "stat, p = shapiro(means)\r\n",
        "print('Statistics={}, p={}'.format(stat, p))\r\n",
        "alpha = 0.05\r\n",
        "if p > alpha:\r\n",
        "    print('Sample looks Normal (do not reject H0)')\r\n",
        "else:\r\n",
        "    print('Sample does not look Normal (reject H0)')"
      ],
      "execution_count": null,
      "outputs": [
        {
          "output_type": "stream",
          "text": [
            "Statistics=0.9751766920089722, p=0.05570291727781296\n",
            "Sample looks Normal (do not reject H0)\n"
          ],
          "name": "stdout"
        }
      ]
    },
    {
      "cell_type": "markdown",
      "metadata": {
        "id": "d-XHOArti_6A"
      },
      "source": [
        "## Chi - Square One Factor"
      ]
    },
    {
      "cell_type": "markdown",
      "metadata": {
        "id": "nYfq8SGyi6vZ"
      },
      "source": [
        "### The Null and Alternative Hypothesis is:\r\n",
        "\r\n",
        "H0: 50% of Females ,40% of Males and 10% Transgender form the participants proportion.\r\n",
        "\r\n",
        "H1: The ratio of participants are different from claimed."
      ]
    },
    {
      "cell_type": "code",
      "metadata": {
        "id": "5AHeT_dGhE_t"
      },
      "source": [
        "obs = bb['Gender'].value_counts().values\r\n",
        "n=sum(obs)\r\n",
        "exp=np.array([n*0.5,n*0.4,n*0.1])"
      ],
      "execution_count": null,
      "outputs": []
    },
    {
      "cell_type": "code",
      "metadata": {
        "colab": {
          "base_uri": "https://localhost:8080/"
        },
        "id": "1SfiCDLUiaHe",
        "outputId": "779517fa-f3c3-4897-d1ab-0dae0de4b9bf"
      },
      "source": [
        "chi_square_stat, p_value = stats.chisquare(obs, f_exp=exp)\r\n",
        "print(\"Chi-square stat:\",chi_square_stat)\r\n",
        "print(\"P-value:\",p_value)"
      ],
      "execution_count": null,
      "outputs": [
        {
          "output_type": "stream",
          "text": [
            "Chi-square stat: 63.89319620253165\n",
            "P-value: 1.335883940757945e-14\n"
          ],
          "name": "stdout"
        }
      ]
    },
    {
      "cell_type": "markdown",
      "metadata": {
        "id": "kt4Qk4G7isiX"
      },
      "source": [
        "Since p-value is less than 0.05 thus we can reject the null hypothesis and conclude that the proportion of gender of the participant doesnt follow the trend projected"
      ]
    },
    {
      "cell_type": "markdown",
      "metadata": {
        "id": "fYf2gdopX-Hn"
      },
      "source": [
        "## Chi - Square Two Factor "
      ]
    },
    {
      "cell_type": "markdown",
      "metadata": {
        "id": "bkF7OWbyTkAo"
      },
      "source": [
        "### The Null and Alternative Hypothesis are:\r\n",
        "\r\n",
        "H0: Finalist is dependent on Gender\r\n",
        "\r\n",
        "H1: FInalist is not dependent on Gender"
      ]
    },
    {
      "cell_type": "code",
      "metadata": {
        "colab": {
          "base_uri": "https://localhost:8080/",
          "height": 142
        },
        "id": "JJkxtsvBUJoG",
        "outputId": "82456c9a-75cb-42b9-f235-39facdc8c7d4"
      },
      "source": [
        "pd.crosstab(index= bb['Finalist'],columns=bb['Gender'])"
      ],
      "execution_count": null,
      "outputs": [
        {
          "output_type": "execute_result",
          "data": {
            "text/html": [
              "<div>\n",
              "<style scoped>\n",
              "    .dataframe tbody tr th:only-of-type {\n",
              "        vertical-align: middle;\n",
              "    }\n",
              "\n",
              "    .dataframe tbody tr th {\n",
              "        vertical-align: top;\n",
              "    }\n",
              "\n",
              "    .dataframe thead th {\n",
              "        text-align: right;\n",
              "    }\n",
              "</style>\n",
              "<table border=\"1\" class=\"dataframe\">\n",
              "  <thead>\n",
              "    <tr style=\"text-align: right;\">\n",
              "      <th>Gender</th>\n",
              "      <th>Female</th>\n",
              "      <th>Male</th>\n",
              "      <th>Transgender</th>\n",
              "    </tr>\n",
              "    <tr>\n",
              "      <th>Finalist</th>\n",
              "      <th></th>\n",
              "      <th></th>\n",
              "      <th></th>\n",
              "    </tr>\n",
              "  </thead>\n",
              "  <tbody>\n",
              "    <tr>\n",
              "      <th>0.0</th>\n",
              "      <td>269</td>\n",
              "      <td>211</td>\n",
              "      <td>4</td>\n",
              "    </tr>\n",
              "    <tr>\n",
              "      <th>1.0</th>\n",
              "      <td>62</td>\n",
              "      <td>86</td>\n",
              "      <td>0</td>\n",
              "    </tr>\n",
              "  </tbody>\n",
              "</table>\n",
              "</div>"
            ],
            "text/plain": [
              "Gender    Female  Male  Transgender\n",
              "Finalist                           \n",
              "0.0          269   211            4\n",
              "1.0           62    86            0"
            ]
          },
          "metadata": {
            "tags": []
          },
          "execution_count": 78
        }
      ]
    },
    {
      "cell_type": "code",
      "metadata": {
        "colab": {
          "base_uri": "https://localhost:8080/"
        },
        "id": "B4hH5JdAVJSe",
        "outputId": "dd801d43-1302-4da8-a98d-ebf427cc043a"
      },
      "source": [
        "quality_array = pd.crosstab(index= bb['Finalist'],columns=bb['Gender'])\r\n",
        "chi_sq_Stat, p_value, deg_freedom, exp_freq = stats.chi2_contingency(quality_array)\r\n",
        "stats.chi2_contingency(quality_array)\r\n",
        "\r\n",
        "print('Chi-statistic: {} \\nP-value: {} \\nDegrees of freedom: {}' .format(chi_sq_Stat, p_value,deg_freedom))"
      ],
      "execution_count": null,
      "outputs": [
        {
          "output_type": "stream",
          "text": [
            "Chi-statistic: 10.357088551390824 \n",
            "P-value: 0.005636205206270326 \n",
            "Degrees of freedom: 2\n"
          ],
          "name": "stdout"
        }
      ]
    },
    {
      "cell_type": "markdown",
      "metadata": {
        "id": "4ELIy8KiYUhw"
      },
      "source": [
        "### The Null and Alternative Hypothesis are:\r\n",
        "H0: Finalist is dependent on Profession\r\n",
        "\r\n",
        "H1: FInalist is not dependent on Profession"
      ]
    },
    {
      "cell_type": "markdown",
      "metadata": {
        "id": "2Xf6e-tRVn2A"
      },
      "source": [
        "Since the p-value(0.0057) is less than 0.05, we reject the null hypothesis. Therefore we can say with 95% confidence that Finalist is not dependent on Gender"
      ]
    },
    {
      "cell_type": "code",
      "metadata": {
        "colab": {
          "base_uri": "https://localhost:8080/",
          "height": 142
        },
        "id": "NHwFfejEV0Vu",
        "outputId": "bae6b503-bda5-4b49-eed4-59e9720e5d8b"
      },
      "source": [
        "pd.crosstab(index= bb['Finalist'],columns=bb['Profession'])"
      ],
      "execution_count": null,
      "outputs": [
        {
          "output_type": "execute_result",
          "data": {
            "text/html": [
              "<div>\n",
              "<style scoped>\n",
              "    .dataframe tbody tr th:only-of-type {\n",
              "        vertical-align: middle;\n",
              "    }\n",
              "\n",
              "    .dataframe tbody tr th {\n",
              "        vertical-align: top;\n",
              "    }\n",
              "\n",
              "    .dataframe thead th {\n",
              "        text-align: right;\n",
              "    }\n",
              "</style>\n",
              "<table border=\"1\" class=\"dataframe\">\n",
              "  <thead>\n",
              "    <tr style=\"text-align: right;\">\n",
              "      <th>Profession</th>\n",
              "      <th>Arts</th>\n",
              "      <th>Commoner</th>\n",
              "      <th>Films</th>\n",
              "      <th>International</th>\n",
              "      <th>Media</th>\n",
              "      <th>Model</th>\n",
              "      <th>Others</th>\n",
              "      <th>Politics</th>\n",
              "      <th>Sports</th>\n",
              "      <th>Television</th>\n",
              "    </tr>\n",
              "    <tr>\n",
              "      <th>Finalist</th>\n",
              "      <th></th>\n",
              "      <th></th>\n",
              "      <th></th>\n",
              "      <th></th>\n",
              "      <th></th>\n",
              "      <th></th>\n",
              "      <th></th>\n",
              "      <th></th>\n",
              "      <th></th>\n",
              "      <th></th>\n",
              "    </tr>\n",
              "  </thead>\n",
              "  <tbody>\n",
              "    <tr>\n",
              "      <th>0.0</th>\n",
              "      <td>36</td>\n",
              "      <td>33</td>\n",
              "      <td>188</td>\n",
              "      <td>6</td>\n",
              "      <td>34</td>\n",
              "      <td>40</td>\n",
              "      <td>38</td>\n",
              "      <td>6</td>\n",
              "      <td>7</td>\n",
              "      <td>96</td>\n",
              "    </tr>\n",
              "    <tr>\n",
              "      <th>1.0</th>\n",
              "      <td>13</td>\n",
              "      <td>6</td>\n",
              "      <td>74</td>\n",
              "      <td>1</td>\n",
              "      <td>4</td>\n",
              "      <td>9</td>\n",
              "      <td>4</td>\n",
              "      <td>0</td>\n",
              "      <td>3</td>\n",
              "      <td>34</td>\n",
              "    </tr>\n",
              "  </tbody>\n",
              "</table>\n",
              "</div>"
            ],
            "text/plain": [
              "Profession  Arts  Commoner  Films  ...  Politics  Sports  Television\n",
              "Finalist                           ...                              \n",
              "0.0           36        33    188  ...         6       7          96\n",
              "1.0           13         6     74  ...         0       3          34\n",
              "\n",
              "[2 rows x 10 columns]"
            ]
          },
          "metadata": {
            "tags": []
          },
          "execution_count": 197
        }
      ]
    },
    {
      "cell_type": "code",
      "metadata": {
        "colab": {
          "base_uri": "https://localhost:8080/"
        },
        "id": "agyVMa5tV-Ro",
        "outputId": "a1fcb416-7437-496c-95bf-21944292ae25"
      },
      "source": [
        "quality_array = pd.crosstab(index= bb['Finalist'],columns=bb['Profession'])\r\n",
        "chi_sq_Stat, p_value, deg_freedom, exp_freq = stats.chi2_contingency(quality_array)\r\n",
        "stats.chi2_contingency(quality_array)\r\n",
        "\r\n",
        "print('Chi-statistic: {} \\nP-value: {} \\nDegrees of freedom: {}' .format(chi_sq_Stat, p_value,deg_freedom))"
      ],
      "execution_count": null,
      "outputs": [
        {
          "output_type": "stream",
          "text": [
            "Chi-statistic: 16.75506004308788 \n",
            "P-value: 0.052692760613474145 \n",
            "Degrees of freedom: 9\n"
          ],
          "name": "stdout"
        }
      ]
    },
    {
      "cell_type": "markdown",
      "metadata": {
        "id": "-8HqwO8TZ8o5"
      },
      "source": [
        "Since the p-value is greater than 0.05, we fail to reject the null hypothesis.\r\n",
        "\r\n",
        "Therefore we can say with 95% confidence that Finalist is dependent on Profession."
      ]
    },
    {
      "cell_type": "code",
      "metadata": {
        "id": "GrVAr5DAinv6"
      },
      "source": [
        ""
      ],
      "execution_count": null,
      "outputs": []
    },
    {
      "cell_type": "markdown",
      "metadata": {
        "id": "P7S4voIGarSx"
      },
      "source": [
        "## Kruskal Wallis H Test"
      ]
    },
    {
      "cell_type": "markdown",
      "metadata": {
        "id": "twahZWKxa0vU"
      },
      "source": [
        "\r\n",
        "### The Null and Alternative Hypothesis is:\r\n",
        "H0: Average of TRP is same accross the Language\r\n",
        "\r\n",
        "H1: Average of TRP is different for at least one Language"
      ]
    },
    {
      "cell_type": "code",
      "metadata": {
        "colab": {
          "base_uri": "https://localhost:8080/"
        },
        "id": "W19unUIubKq4",
        "outputId": "53fc0da2-5982-4723-d20f-0d4d33ffe1fc"
      },
      "source": [
        "alpha=0.05\r\n",
        "test_stat, p_value = stats.kruskal(bb[bb['Language'] == 'Tamil'][\"Average TRP\"],\r\n",
        "              bb[bb['Language'] == 'Telugu'][\"Average TRP\"],\r\n",
        "              bb[bb['Language'] == 'Kannada'][\"Average TRP\"],\r\n",
        "              bb[bb['Language'] == 'Bengali'][\"Average TRP\"],\r\n",
        "              bb[bb['Language'] == 'Malayalam'][\"Average TRP\"],\r\n",
        "              bb[bb['Language'] == 'Hindi'][\"Average TRP\"])\r\n",
        "\r\n",
        "print('P_value for Kruskal : ', p_value)\r\n",
        "print('Significance level: ',alpha)"
      ],
      "execution_count": null,
      "outputs": [
        {
          "output_type": "stream",
          "text": [
            "P_value for Kruskal :  8.286927886883681e-68\n",
            "Significance level:  0.05\n"
          ],
          "name": "stdout"
        }
      ]
    },
    {
      "cell_type": "markdown",
      "metadata": {
        "id": "HHmwrHepc7lO"
      },
      "source": [
        "\r\n",
        "Here P value is less than alpha thus we reject null hypothesis. \r\n",
        "We can conclude that average of TRP rating is different for at least one Language"
      ]
    },
    {
      "cell_type": "markdown",
      "metadata": {
        "id": "9K1xs6O3-R3x"
      },
      "source": [
        "#Part 2"
      ]
    },
    {
      "cell_type": "code",
      "metadata": {
        "colab": {
          "base_uri": "https://localhost:8080/"
        },
        "id": "atyaOiMK-_yc",
        "outputId": "ade21acc-16df-4c60-80d7-6ceba2d77f24"
      },
      "source": [
        "np.mean(bb[\"Elimination Week Number\"])"
      ],
      "execution_count": null,
      "outputs": [
        {
          "output_type": "execute_result",
          "data": {
            "text/plain": [
              "9.13549618320609"
            ]
          },
          "metadata": {
            "tags": []
          },
          "execution_count": 19
        }
      ]
    },
    {
      "cell_type": "code",
      "metadata": {
        "colab": {
          "base_uri": "https://localhost:8080/",
          "height": 297
        },
        "id": "riXR47f93xZZ",
        "outputId": "2398f6ee-3db5-431e-9662-3759d2d2b8a6"
      },
      "source": [
        "sns.kdeplot(df[\"Elimination Week Number\"])"
      ],
      "execution_count": null,
      "outputs": [
        {
          "output_type": "execute_result",
          "data": {
            "text/plain": [
              "<matplotlib.axes._subplots.AxesSubplot at 0x7f7e24eb2a10>"
            ]
          },
          "metadata": {
            "tags": []
          },
          "execution_count": 22
        },
        {
          "output_type": "display_data",
          "data": {
            "image/png": "[encoded data removed]",
            "text/plain": [
              "<Figure size 432x288 with 1 Axes>"
            ]
          },
          "metadata": {
            "tags": [],
            "needs_background": "light"
          }
        }
      ]
    },
    {
      "cell_type": "code",
      "metadata": {
        "id": "yh8ES01Q5TW3",
        "colab": {
          "base_uri": "https://localhost:8080/",
          "height": 296
        },
        "outputId": "3a4eacd9-4650-41ba-8d2f-8c6f34865245"
      },
      "source": [
        "sns.kdeplot(df[\"Number of Evictions Faced\"])"
      ],
      "execution_count": null,
      "outputs": [
        {
          "output_type": "execute_result",
          "data": {
            "text/plain": [
              "<matplotlib.axes._subplots.AxesSubplot at 0x7f66b5bc3dd0>"
            ]
          },
          "metadata": {
            "tags": []
          },
          "execution_count": 41
        },
        {
          "output_type": "display_data",
          "data": {
            "image/png": "[encoded data removed]",
            "text/plain": [
              "<Figure size 432x288 with 1 Axes>"
            ]
          },
          "metadata": {
            "tags": [],
            "needs_background": "light"
          }
        }
      ]
    },
    {
      "cell_type": "code",
      "metadata": {
        "colab": {
          "base_uri": "https://localhost:8080/"
        },
        "id": "psMxFGH697vW",
        "outputId": "b639eb07-cbe1-4f41-92f6-474097b778bc"
      },
      "source": [
        "stats.shapiro(bb[\"Number of Evictions Faced\"])"
      ],
      "execution_count": null,
      "outputs": [
        {
          "output_type": "execute_result",
          "data": {
            "text/plain": [
              "(0.9046778082847595, 1.999248882384241e-19)"
            ]
          },
          "metadata": {
            "tags": []
          },
          "execution_count": 44
        }
      ]
    },
    {
      "cell_type": "code",
      "metadata": {
        "colab": {
          "base_uri": "https://localhost:8080/"
        },
        "id": "KVGE64Fn9wI5",
        "outputId": "f268b6a2-086e-4941-d4d0-c6b3215ba9d1"
      },
      "source": [
        "# when we see a double peak , is it that these are from 2 different distributions or sample distribution/process\r\n",
        "# We can run the t test to see if this is statistical or are they from 2 different distributions\r\n",
        "# Null Hypotheses: They are from the same distribution\r\n",
        "# Alternate: They are from different distributions\r\n",
        "\r\n",
        "#df_=df[\"Elimination Week Number\"].fillna(np.mean(df[\"Elimination Week Number\"]))\r\n",
        "x2 = df[\"Elimination Week Number\"].sample(20)\r\n",
        "x1 = df[\"Elimination Week Number\"].sample(20)\r\n",
        "t_statistic , P = stats.mannwhitneyu(x1,x2)\r\n",
        "print(t_statistic,P)\r\n",
        "print(\"Since the pvalue is greater than 0.05 we conclude that they are from the same distribution and the peaks are just statistical\")"
      ],
      "execution_count": null,
      "outputs": [
        {
          "output_type": "stream",
          "text": [
            "158.0 0.130180355407705\n",
            "Since the pvalue is greater than 0.05 we conclude that they are from the same distribution and the peaks are just statistical\n"
          ],
          "name": "stdout"
        }
      ]
    },
    {
      "cell_type": "code",
      "metadata": {
        "id": "BAqlAtMl8XvM"
      },
      "source": [
        "df_hindi1 = df[df[\"Language\"]== \"Hindi\"]\r\n",
        "df_Kannada = df[df[\"Language\"]== \"Kannada\"]\r\n",
        "df_Telugu = df[df[\"Language\"]== \"Telugu\"]\r\n",
        "df_Tamil = df[df[\"Language\"]== \"Tamil\"]\r\n",
        "df_Marathi = df[df[\"Language\"]== \"Marathi\"]\r\n",
        "df_Bengali = df[df[\"Language\"]== \"Bengali\"]\r\n",
        "df_Malayalam = df[df[\"Language\"]== \"Malayalam\"]"
      ],
      "execution_count": null,
      "outputs": []
    },
    {
      "cell_type": "code",
      "metadata": {
        "id": "R8kVr9Dh8ZKK"
      },
      "source": [
        "df_hindi1[\"Elimination Week Number\"].fillna(np.mean(df_hindi1[\"Elimination Week Number\"]),inplace=True)\r\n",
        "df_Tamil[\"Elimination Week Number\"].fillna(np.mean(df_Tamil[\"Elimination Week Number\"]),inplace=True)\r\n",
        "df_Kannada[\"Elimination Week Number\"].fillna(np.mean(df_Kannada[\"Elimination Week Number\"]),inplace=True)\r\n",
        "df_Bengali[\"Elimination Week Number\"].fillna(np.mean(df_Bengali[\"Elimination Week Number\"]),inplace=True)\r\n",
        "df_Malayalam[\"Elimination Week Number\"].fillna(np.mean(df_Malayalam[\"Elimination Week Number\"]),inplace=True)\r\n",
        "df_Telugu[\"Elimination Week Number\"].fillna(np.mean(df_Telugu[\"Elimination Week Number\"]),inplace=True)\r\n",
        "df_Marathi[\"Elimination Week Number\"].fillna(np.mean(df_Marathi[\"Elimination Week Number\"]),inplace=True)"
      ],
      "execution_count": null,
      "outputs": []
    },
    {
      "cell_type": "markdown",
      "metadata": {
        "id": "nBc_Z0Ww6i-1"
      },
      "source": [
        "##Hypothesis -1 Are the variations/mean in Elimination week different for different regions or languages\r\n",
        "\r\n",
        "Null Hypotheses: They are the same\r\n",
        "\r\n",
        "\r\n",
        "Alternate: They are Different , atleast one is different"
      ]
    },
    {
      "cell_type": "code",
      "metadata": {
        "colab": {
          "base_uri": "https://localhost:8080/",
          "height": 297
        },
        "id": "DyK119NQ7HsW",
        "outputId": "b3717ef1-617f-4b63-e90c-39e62fb02639"
      },
      "source": [
        "sns.kdeplot(bb[\"Elimination Week Number\"])"
      ],
      "execution_count": null,
      "outputs": [
        {
          "output_type": "execute_result",
          "data": {
            "text/plain": [
              "<matplotlib.axes._subplots.AxesSubplot at 0x7f7e24dfbb90>"
            ]
          },
          "metadata": {
            "tags": []
          },
          "execution_count": 25
        },
        {
          "output_type": "display_data",
          "data": {
            "image/png": "[encoded data removed]",
            "text/plain": [
              "<Figure size 432x288 with 1 Axes>"
            ]
          },
          "metadata": {
            "tags": [],
            "needs_background": "light"
          }
        }
      ]
    },
    {
      "cell_type": "code",
      "metadata": {
        "colab": {
          "base_uri": "https://localhost:8080/"
        },
        "id": "mU_GmTFk7M9n",
        "outputId": "748afe8d-380a-49fd-d28e-647a7469f7d4"
      },
      "source": [
        "stats.shapiro(bb[\"Elimination Week Number\"])"
      ],
      "execution_count": null,
      "outputs": [
        {
          "output_type": "execute_result",
          "data": {
            "text/plain": [
              "(0.96217280626297, 1.0998514599069864e-11)"
            ]
          },
          "metadata": {
            "tags": []
          },
          "execution_count": 26
        }
      ]
    },
    {
      "cell_type": "markdown",
      "metadata": {
        "id": "61XfWN037TTj"
      },
      "source": [
        "We concluded after the shapiro test that the Elimination week number is not normally distributed"
      ]
    },
    {
      "cell_type": "code",
      "metadata": {
        "id": "tW_pJkUb6Cx6"
      },
      "source": [
        "#Since it is not normally distributed we use the Kruskal H Test for checking the distributions\r\n",
        "\r\n",
        "test_stat, p_value = stats.kruskal(bb[bb['Language'] == 'Tamil'][\"Elimination Week Number\"],\r\n",
        "              bb[bb['Language'] == 'Telugu'][\"Elimination Week Number\"],\r\n",
        "              bb[bb['Language'] == 'Kannada'][\"Elimination Week Number\"],\r\n",
        "              bb[bb['Language'] == 'Bengali'][\"Elimination Week Number\"],\r\n",
        "              bb[bb['Language'] == 'Malayalam'][\"Elimination Week Number\"],\r\n",
        "              bb[bb['Language'] == 'Hindi'][\"Elimination Week Number\"])"
      ],
      "execution_count": null,
      "outputs": []
    },
    {
      "cell_type": "code",
      "metadata": {
        "colab": {
          "base_uri": "https://localhost:8080/"
        },
        "id": "fKYKkOG_6ORl",
        "outputId": "6e0d4f44-2aad-4cdf-debe-d586d3dddc28"
      },
      "source": [
        "print('H-statistic: {} \\nP-value: {}' .format(test_stat, p_value))"
      ],
      "execution_count": null,
      "outputs": [
        {
          "output_type": "stream",
          "text": [
            "H-statistic: 2.177640414947859 \n",
            "P-value: 0.8240590329537104\n"
          ],
          "name": "stdout"
        }
      ]
    },
    {
      "cell_type": "markdown",
      "metadata": {
        "id": "pzGc3Z5S6qqX"
      },
      "source": [
        "Since the p value is greater than the significance value 0.05 ,\r\n",
        "we fail to reject the null hypothesis, hence, the elimination is the same across diffrent regions "
      ]
    },
    {
      "cell_type": "markdown",
      "metadata": {
        "id": "nXM1t5RI3E1A"
      },
      "source": [
        "## Hypotheses 2 Is there a gender bias with respect to elimination week, for Big Boss Hindi?\r\n",
        "\r\n",
        "Null Hypothises- There is a significant link or bias between gender and elimination\r\n",
        "\r\n",
        "\r\n",
        "Alternate Hypothesis: There is no significance or bias between gender and eleimination week number "
      ]
    },
    {
      "cell_type": "code",
      "metadata": {
        "id": "Tqf_H8luBSJ_"
      },
      "source": [
        "df_hindi1_Male= df_hindi1[df_hindi1[\"Gender\"]==\"Male\"]\r\n",
        "df_hindi1_Female=df_hindi1[df_hindi1[\"Gender\"]==\"Female\"]"
      ],
      "execution_count": null,
      "outputs": []
    },
    {
      "cell_type": "code",
      "metadata": {
        "colab": {
          "base_uri": "https://localhost:8080/"
        },
        "id": "d5QboEJfiTPK",
        "outputId": "6c32bd40-c6dc-4474-e197-cad4132c9c8b"
      },
      "source": [
        "df_hindi1_Female.shape"
      ],
      "execution_count": null,
      "outputs": [
        {
          "output_type": "execute_result",
          "data": {
            "text/plain": [
              "(134, 24)"
            ]
          },
          "metadata": {
            "tags": []
          },
          "execution_count": 15
        }
      ]
    },
    {
      "cell_type": "code",
      "metadata": {
        "id": "fJJ8viJXBUFc"
      },
      "source": [
        "pvalue_gender_elimination = stats.mannwhitneyu(df_hindi1_Male[\"Elimination Week Number\"].sample(30),df_hindi1_Female[\"Elimination Week Number\"].sample(30))"
      ],
      "execution_count": null,
      "outputs": []
    },
    {
      "cell_type": "code",
      "metadata": {
        "colab": {
          "base_uri": "https://localhost:8080/"
        },
        "id": "t9glbimsBXjb",
        "outputId": "139ff53a-fa23-42c2-c00a-0a8aaa27eab2"
      },
      "source": [
        "pvalue_gender_elimination  "
      ],
      "execution_count": null,
      "outputs": [
        {
          "output_type": "execute_result",
          "data": {
            "text/plain": [
              "MannwhitneyuResult(statistic=390.0, pvalue=0.18911674880929885)"
            ]
          },
          "metadata": {
            "tags": []
          },
          "execution_count": 17
        }
      ]
    },
    {
      "cell_type": "markdown",
      "metadata": {
        "id": "9wonuPTd9RDt"
      },
      "source": [
        "\r\n",
        "Since the P value is greater than the significance  aplha =0.05 , we fail to reject the null hypotheses, hence, there is a bias or dependency between gender and elimination week number"
      ]
    },
    {
      "cell_type": "markdown",
      "metadata": {
        "id": "Rncvw1NcAyKJ"
      },
      "source": [
        "## Hypotheses 3:Is there a link/dependency between gender and the region\r\n",
        "Null Hypotheses: Gender and language are dependent\r\n",
        "\r\n",
        "Alternate-There is no statistical dependency between gender and Language\r\n",
        "\r\n",
        "We will use chisquare dependency test for this hypothesis"
      ]
    },
    {
      "cell_type": "code",
      "metadata": {
        "colab": {
          "base_uri": "https://localhost:8080/"
        },
        "id": "BU4oRjXhBdkI",
        "outputId": "94bd0466-a03f-4f4f-d756-76f8def682f7"
      },
      "source": [
        "gender_language = [[ df_hindi1[df_hindi1[\"Gender\"]==\"Male\"].Language.count(),df_Tamil[df_Tamil[\"Gender\"]==\"Male\"].Language.count(),\r\n",
        "                    df_Kannada[df_Kannada[\"Gender\"]==\"Male\"].Language.count(),df_Bengali[df_Bengali[\"Gender\"]==\"Male\"].Language.count(),\r\n",
        "                   df_Telugu[df_Telugu[\"Gender\"]==\"Male\"].Language.count(),df_Malayalam[df_Malayalam[\"Gender\"]==\"Male\"].Language.count(),\r\n",
        "                   df_Marathi[df_Marathi[\"Gender\"]==\"Male\"].Language.count()],\r\n",
        "                   [df_hindi1[df_hindi1[\"Gender\"]==\"Female\"].Language.count(),df_Tamil[df_Tamil[\"Gender\"]==\"Female\"].Language.count(),\r\n",
        "                    df_Kannada[df_Kannada[\"Gender\"]==\"Female\"].Language.count(),df_Bengali[df_Bengali[\"Gender\"]==\"Female\"].Language.count(),\r\n",
        "                   df_Telugu[df_Telugu[\"Gender\"]==\"Female\"].Language.count(),df_Malayalam[df_Malayalam[\"Gender\"]==\"Female\"].Language.count(),\r\n",
        "                   df_Marathi[df_Marathi[\"Gender\"]==\"Female\"].Language.count()]]\r\n",
        "                    \r\n",
        "chi_sq_Stat, p_value, deg_freedom, exp_freq = stats.chi2_contingency(gender_language)\r\n",
        "print('Chi-square statistic %3.5f P value %1.6f Degrees of freedom %d' %(chi_sq_Stat, p_value,deg_freedom))\r\n"
      ],
      "execution_count": null,
      "outputs": [
        {
          "output_type": "stream",
          "text": [
            "Chi-square statistic 0.47162 P value 0.998167 Degrees of freedom 6\n"
          ],
          "name": "stdout"
        }
      ]
    },
    {
      "cell_type": "markdown",
      "metadata": {
        "id": "njhsj7xqjuFn"
      },
      "source": [
        "Since the p value is greater than the critical value 0.05 , we do not reject the null hypotheses .\r\n",
        "\r\n",
        "Hence, Gender and Language are dependent features statistically "
      ]
    },
    {
      "cell_type": "markdown",
      "metadata": {
        "id": "AUY27LFV-K8N"
      },
      "source": [
        ""
      ]
    },
    {
      "cell_type": "markdown",
      "metadata": {
        "id": "r6dSPEvt-Mle"
      },
      "source": [
        "## Hypotheses 4 - \r\n",
        "Are the No of evictions dependent on the gender \r\n",
        "\r\n",
        "Null- They are dependent\r\n",
        "\r\n",
        "Alternate Hypothses : They are not dependent on each other"
      ]
    },
    {
      "cell_type": "code",
      "metadata": {
        "id": "TRsTnvLT-Xdu"
      },
      "source": [
        "pvalue_gender_evictions = stats.mannwhitneyu(df_hindi1_Male[\"Number of Evictions Faced\"].sample(30),df_hindi1_Female[\"Number of Evictions Faced\"].sample(30))"
      ],
      "execution_count": null,
      "outputs": []
    },
    {
      "cell_type": "code",
      "metadata": {
        "colab": {
          "base_uri": "https://localhost:8080/"
        },
        "id": "GB9MbZBK-ktf",
        "outputId": "c8a01c82-80b6-4e9b-d003-b9ea5ea6bcba"
      },
      "source": [
        "pvalue_gender_evictions"
      ],
      "execution_count": null,
      "outputs": [
        {
          "output_type": "execute_result",
          "data": {
            "text/plain": [
              "MannwhitneyuResult(statistic=370.5, pvalue=0.11836019382817542)"
            ]
          },
          "metadata": {
            "tags": []
          },
          "execution_count": 52
        }
      ]
    },
    {
      "cell_type": "markdown",
      "metadata": {
        "id": "r6JK24eZ-8Rh"
      },
      "source": [
        "Since the p value is greater than 0.05 we cannot reject the null hypotheses,\r\n",
        "Hence , The Evictions are dependent on the gender"
      ]
    },
    {
      "cell_type": "markdown",
      "metadata": {
        "id": "5UuMBqZLCWGm"
      },
      "source": [
        "##Hypotheses 5: Are the winners vs gender proportions significantly different\r\n",
        "\r\n",
        "Null Hypotheses: They are the same\r\n",
        "\r\n",
        "Alternate Hypotheses: They are different"
      ]
    },
    {
      "cell_type": "code",
      "metadata": {
        "colab": {
          "base_uri": "https://localhost:8080/"
        },
        "id": "XwizhJumBWIe",
        "outputId": "83b5f830-0994-4535-bd37-ffa3c97a91a3"
      },
      "source": [
        "df[\"Gender\"].value_counts()"
      ],
      "execution_count": null,
      "outputs": [
        {
          "output_type": "execute_result",
          "data": {
            "text/plain": [
              "Female         331\n",
              "Male           297\n",
              "Transgender      4\n",
              "Name: Gender, dtype: int64"
            ]
          },
          "metadata": {
            "tags": []
          },
          "execution_count": 54
        }
      ]
    },
    {
      "cell_type": "code",
      "metadata": {
        "id": "J_tIM8ZUBFTr"
      },
      "source": [
        "female_winners = df[df['Gender'] == 'Female'].Winner.value_counts()[1]  # number of female winners\r\n",
        "male_winners = df[df['Gender'] == 'Male'].Winner.value_counts()[1] # number of male winners\r\n",
        "n_females = df.Gender.value_counts()[0] # number of females in the data\r\n",
        "n_males = df.Gender.value_counts()[1] "
      ],
      "execution_count": null,
      "outputs": []
    },
    {
      "cell_type": "code",
      "metadata": {
        "colab": {
          "base_uri": "https://localhost:8080/"
        },
        "id": "2l0lJs9wBKg-",
        "outputId": "e1903a25-0502-46f5-9d18-4c1ca2b758ca"
      },
      "source": [
        "print([female_winners, male_winners] , [n_females, n_males])\r\n",
        "print(f' Proportion of winners in females, males = {round(9/331,2)}%, {round(24/297,2)}% respectively')"
      ],
      "execution_count": null,
      "outputs": [
        {
          "output_type": "stream",
          "text": [
            "[9, 24] [331, 297]\n",
            " Proportion of winners in females, males = 0.03%, 0.08% respectively\n"
          ],
          "name": "stdout"
        }
      ]
    },
    {
      "cell_type": "code",
      "metadata": {
        "id": "1hImnuVyBusU"
      },
      "source": [
        "stat, pval = proportions_ztest([female_winners, male_winners] , [n_females, n_males])"
      ],
      "execution_count": null,
      "outputs": []
    },
    {
      "cell_type": "code",
      "metadata": {
        "colab": {
          "base_uri": "https://localhost:8080/"
        },
        "id": "c9YHwxpLB-kz",
        "outputId": "1b404e7a-c0e1-48c7-a262-de3b171a766b"
      },
      "source": [
        "if pval < 0.05:\r\n",
        "    print(f'With a p-value of {round(pval,4)} the difference is significant. We reject the null hypotheses')\r\n",
        "else:\r\n",
        "    print(f'With a p-value of {round(pval,4)} the difference is not significant. We fail to reject the null')"
      ],
      "execution_count": null,
      "outputs": [
        {
          "output_type": "stream",
          "text": [
            "With a p-value of 0.0026 the difference is significant. We reject the null hypotheses\n"
          ],
          "name": "stdout"
        }
      ]
    },
    {
      "cell_type": "markdown",
      "metadata": {
        "id": "itHEW2h1COpO"
      },
      "source": [
        "Since the p value is less than 0.05 we reject the null hypotheses,\r\n",
        "\r\n",
        "Hence, there is the proportions of gender vary significantly among the winners"
      ]
    },
    {
      "cell_type": "markdown",
      "metadata": {
        "id": "E_kBjjtcJeyF"
      },
      "source": [
        "#Hypothes 6 : \r\n",
        "## H0 \"Elimination Week Number\" influence \"Number of Evictions Faced\"\r\n",
        "## H1 \"Elimination Week Number\" does not influence \"Number of Evictions Faced\"\r\n",
        "##Using - ONE WAY ANOVA\r\n",
        "\r\n"
      ]
    },
    {
      "cell_type": "code",
      "metadata": {
        "id": "01WrYoYPIJpX"
      },
      "source": [
        "# Cleaning of data records\r\n",
        "pf1=df\r\n",
        "# Average TRP Mean values imputation\r\n",
        "pf1['Average TRP'] = pf1['Average TRP'].fillna(pf1['Average TRP'].mean())\r\n",
        "\r\n",
        "# Finalist fill null values imputation\r\n",
        "pf1['Finalist'] = pf1['Finalist'].fillna(0)\r\n",
        "\r\n",
        "# Number of Evictions Faced Mean values imputation\r\n",
        "pf1['Number of Evictions Faced'].fillna(pf1['Number of Evictions Faced'].mean())\r\n",
        "\r\n",
        "# Number of times elected as Captain null values imputation\r\n",
        "pf1['Number of times elected as Captain'] = pf1['Number of times elected as Captain'].fillna(0)\r\n",
        "\r\n",
        "# Number of of Housemates as null values imputation\r\n",
        "pf1[\"Number of Housemates\"] = pf1[\"Number of Housemates\"].fillna(0)\r\n",
        "\r\n",
        "# Social Media Popularity Mean values imputation\r\n",
        "pf1[\"Social Media Popularity\"] = pf1[\"Social Media Popularity\"].fillna(round(pf1[\"Social Media Popularity\"].mean()))\r\n",
        "\r\n",
        "# Elimination Week Number Mean values imputation\r\n",
        "pf1[\"Elimination Week Number\"] = pf1[\"Elimination Week Number\"].fillna(pf1[\"Elimination Week Number\"].mean())"
      ],
      "execution_count": null,
      "outputs": []
    },
    {
      "cell_type": "code",
      "metadata": {
        "colab": {
          "base_uri": "https://localhost:8080/",
          "height": 410
        },
        "id": "mW4nKQ5bJ-nl",
        "outputId": "387522cc-5516-4cc5-a7d8-00253d6b1580"
      },
      "source": [
        "## Numerical columns for Annova hypothesis\r\n",
        "\r\n",
        "pf1_data = pf1[[\"Elimination Week Number\", \"Number of Evictions Faced\"]]\r\n",
        "pf1_data"
      ],
      "execution_count": null,
      "outputs": [
        {
          "output_type": "execute_result",
          "data": {
            "text/html": [
              "<div>\n",
              "<style scoped>\n",
              "    .dataframe tbody tr th:only-of-type {\n",
              "        vertical-align: middle;\n",
              "    }\n",
              "\n",
              "    .dataframe tbody tr th {\n",
              "        vertical-align: top;\n",
              "    }\n",
              "\n",
              "    .dataframe thead th {\n",
              "        text-align: right;\n",
              "    }\n",
              "</style>\n",
              "<table border=\"1\" class=\"dataframe\">\n",
              "  <thead>\n",
              "    <tr style=\"text-align: right;\">\n",
              "      <th></th>\n",
              "      <th>Elimination Week Number</th>\n",
              "      <th>Number of Evictions Faced</th>\n",
              "    </tr>\n",
              "  </thead>\n",
              "  <tbody>\n",
              "    <tr>\n",
              "      <th>0</th>\n",
              "      <td>10.000000</td>\n",
              "      <td>3.0</td>\n",
              "    </tr>\n",
              "    <tr>\n",
              "      <th>1</th>\n",
              "      <td>5.000000</td>\n",
              "      <td>1.0</td>\n",
              "    </tr>\n",
              "    <tr>\n",
              "      <th>2</th>\n",
              "      <td>4.000000</td>\n",
              "      <td>1.0</td>\n",
              "    </tr>\n",
              "    <tr>\n",
              "      <th>3</th>\n",
              "      <td>1.000000</td>\n",
              "      <td>1.0</td>\n",
              "    </tr>\n",
              "    <tr>\n",
              "      <th>4</th>\n",
              "      <td>12.000000</td>\n",
              "      <td>6.0</td>\n",
              "    </tr>\n",
              "    <tr>\n",
              "      <th>...</th>\n",
              "      <td>...</td>\n",
              "      <td>...</td>\n",
              "    </tr>\n",
              "    <tr>\n",
              "      <th>627</th>\n",
              "      <td>8.000000</td>\n",
              "      <td>4.0</td>\n",
              "    </tr>\n",
              "    <tr>\n",
              "      <th>628</th>\n",
              "      <td>9.135496</td>\n",
              "      <td>0.0</td>\n",
              "    </tr>\n",
              "    <tr>\n",
              "      <th>629</th>\n",
              "      <td>8.000000</td>\n",
              "      <td>2.0</td>\n",
              "    </tr>\n",
              "    <tr>\n",
              "      <th>630</th>\n",
              "      <td>9.135496</td>\n",
              "      <td>3.0</td>\n",
              "    </tr>\n",
              "    <tr>\n",
              "      <th>631</th>\n",
              "      <td>9.135496</td>\n",
              "      <td>3.0</td>\n",
              "    </tr>\n",
              "  </tbody>\n",
              "</table>\n",
              "<p>632 rows × 2 columns</p>\n",
              "</div>"
            ],
            "text/plain": [
              "     Elimination Week Number  Number of Evictions Faced\n",
              "0                  10.000000                        3.0\n",
              "1                   5.000000                        1.0\n",
              "2                   4.000000                        1.0\n",
              "3                   1.000000                        1.0\n",
              "4                  12.000000                        6.0\n",
              "..                       ...                        ...\n",
              "627                 8.000000                        4.0\n",
              "628                 9.135496                        0.0\n",
              "629                 8.000000                        2.0\n",
              "630                 9.135496                        3.0\n",
              "631                 9.135496                        3.0\n",
              "\n",
              "[632 rows x 2 columns]"
            ]
          },
          "metadata": {
            "tags": []
          },
          "execution_count": 11
        }
      ]
    },
    {
      "cell_type": "code",
      "metadata": {
        "colab": {
          "base_uri": "https://localhost:8080/",
          "height": 290
        },
        "id": "sU6fn_VOKJD6",
        "outputId": "8a8f49b4-368a-4cf5-82ce-469aaf86a6b8"
      },
      "source": [
        "# data description used in analysis\r\n",
        "\r\n",
        "pf1_data.describe()"
      ],
      "execution_count": null,
      "outputs": [
        {
          "output_type": "execute_result",
          "data": {
            "text/html": [
              "<div>\n",
              "<style scoped>\n",
              "    .dataframe tbody tr th:only-of-type {\n",
              "        vertical-align: middle;\n",
              "    }\n",
              "\n",
              "    .dataframe tbody tr th {\n",
              "        vertical-align: top;\n",
              "    }\n",
              "\n",
              "    .dataframe thead th {\n",
              "        text-align: right;\n",
              "    }\n",
              "</style>\n",
              "<table border=\"1\" class=\"dataframe\">\n",
              "  <thead>\n",
              "    <tr style=\"text-align: right;\">\n",
              "      <th></th>\n",
              "      <th>Elimination Week Number</th>\n",
              "      <th>Number of Evictions Faced</th>\n",
              "    </tr>\n",
              "  </thead>\n",
              "  <tbody>\n",
              "    <tr>\n",
              "      <th>count</th>\n",
              "      <td>632.000000</td>\n",
              "      <td>614.000000</td>\n",
              "    </tr>\n",
              "    <tr>\n",
              "      <th>mean</th>\n",
              "      <td>9.135496</td>\n",
              "      <td>4.055375</td>\n",
              "    </tr>\n",
              "    <tr>\n",
              "      <th>std</th>\n",
              "      <td>4.292658</td>\n",
              "      <td>2.867981</td>\n",
              "    </tr>\n",
              "    <tr>\n",
              "      <th>min</th>\n",
              "      <td>1.000000</td>\n",
              "      <td>0.000000</td>\n",
              "    </tr>\n",
              "    <tr>\n",
              "      <th>25%</th>\n",
              "      <td>6.000000</td>\n",
              "      <td>2.000000</td>\n",
              "    </tr>\n",
              "    <tr>\n",
              "      <th>50%</th>\n",
              "      <td>9.135496</td>\n",
              "      <td>3.000000</td>\n",
              "    </tr>\n",
              "    <tr>\n",
              "      <th>75%</th>\n",
              "      <td>13.000000</td>\n",
              "      <td>6.000000</td>\n",
              "    </tr>\n",
              "    <tr>\n",
              "      <th>max</th>\n",
              "      <td>20.000000</td>\n",
              "      <td>13.000000</td>\n",
              "    </tr>\n",
              "  </tbody>\n",
              "</table>\n",
              "</div>"
            ],
            "text/plain": [
              "       Elimination Week Number  Number of Evictions Faced\n",
              "count               632.000000                 614.000000\n",
              "mean                  9.135496                   4.055375\n",
              "std                   4.292658                   2.867981\n",
              "min                   1.000000                   0.000000\n",
              "25%                   6.000000                   2.000000\n",
              "50%                   9.135496                   3.000000\n",
              "75%                  13.000000                   6.000000\n",
              "max                  20.000000                  13.000000"
            ]
          },
          "metadata": {
            "tags": []
          },
          "execution_count": 12
        }
      ]
    },
    {
      "cell_type": "code",
      "metadata": {
        "colab": {
          "base_uri": "https://localhost:8080/"
        },
        "id": "def3d-adKLC1",
        "outputId": "57e8e70a-d7d2-44f3-b0a4-c0aa1be0fd4b"
      },
      "source": [
        "# Measures of Central Tendency\r\n",
        "\r\n",
        "# Mean\r\n",
        "pf1_data.mean()"
      ],
      "execution_count": null,
      "outputs": [
        {
          "output_type": "execute_result",
          "data": {
            "text/plain": [
              "Elimination Week Number      9.135496\n",
              "Number of Evictions Faced    4.055375\n",
              "dtype: float64"
            ]
          },
          "metadata": {
            "tags": []
          },
          "execution_count": 13
        }
      ]
    },
    {
      "cell_type": "code",
      "metadata": {
        "colab": {
          "base_uri": "https://localhost:8080/"
        },
        "id": "9l6N9ULiKQnQ",
        "outputId": "a7f10ade-2c72-4f4b-8404-d5d5992afc6f"
      },
      "source": [
        "# Median\r\n",
        "pf1_data.median()"
      ],
      "execution_count": null,
      "outputs": [
        {
          "output_type": "execute_result",
          "data": {
            "text/plain": [
              "Elimination Week Number      9.135496\n",
              "Number of Evictions Faced    3.000000\n",
              "dtype: float64"
            ]
          },
          "metadata": {
            "tags": []
          },
          "execution_count": 14
        }
      ]
    },
    {
      "cell_type": "code",
      "metadata": {
        "colab": {
          "base_uri": "https://localhost:8080/",
          "height": 78
        },
        "id": "1cnnIbePKSor",
        "outputId": "b26f193b-0a10-466c-df6f-ea31348e84e3"
      },
      "source": [
        "# Mode\r\n",
        "pf1_data.mode()"
      ],
      "execution_count": null,
      "outputs": [
        {
          "output_type": "execute_result",
          "data": {
            "text/html": [
              "<div>\n",
              "<style scoped>\n",
              "    .dataframe tbody tr th:only-of-type {\n",
              "        vertical-align: middle;\n",
              "    }\n",
              "\n",
              "    .dataframe tbody tr th {\n",
              "        vertical-align: top;\n",
              "    }\n",
              "\n",
              "    .dataframe thead th {\n",
              "        text-align: right;\n",
              "    }\n",
              "</style>\n",
              "<table border=\"1\" class=\"dataframe\">\n",
              "  <thead>\n",
              "    <tr style=\"text-align: right;\">\n",
              "      <th></th>\n",
              "      <th>Elimination Week Number</th>\n",
              "      <th>Number of Evictions Faced</th>\n",
              "    </tr>\n",
              "  </thead>\n",
              "  <tbody>\n",
              "    <tr>\n",
              "      <th>0</th>\n",
              "      <td>9.135496</td>\n",
              "      <td>1.0</td>\n",
              "    </tr>\n",
              "  </tbody>\n",
              "</table>\n",
              "</div>"
            ],
            "text/plain": [
              "   Elimination Week Number  Number of Evictions Faced\n",
              "0                 9.135496                        1.0"
            ]
          },
          "metadata": {
            "tags": []
          },
          "execution_count": 15
        }
      ]
    },
    {
      "cell_type": "code",
      "metadata": {
        "colab": {
          "base_uri": "https://localhost:8080/"
        },
        "id": "jZckmJ9TKci1",
        "outputId": "70b537c5-b41a-46e6-814a-fcc9b08babf6"
      },
      "source": [
        "#  Measures of dispersion\r\n",
        "\r\n",
        "# Variance\r\n",
        "pf1_data.var()"
      ],
      "execution_count": null,
      "outputs": [
        {
          "output_type": "execute_result",
          "data": {
            "text/plain": [
              "Elimination Week Number      18.426909\n",
              "Number of Evictions Faced     8.225314\n",
              "dtype: float64"
            ]
          },
          "metadata": {
            "tags": []
          },
          "execution_count": 16
        }
      ]
    },
    {
      "cell_type": "code",
      "metadata": {
        "colab": {
          "base_uri": "https://localhost:8080/"
        },
        "id": "6VIlNTuCKj-w",
        "outputId": "3f842e3a-70ec-4598-afc2-a834f17cd440"
      },
      "source": [
        "# Standard Deviation\r\n",
        "pf1_data.std()"
      ],
      "execution_count": null,
      "outputs": [
        {
          "output_type": "execute_result",
          "data": {
            "text/plain": [
              "Elimination Week Number      4.292658\n",
              "Number of Evictions Faced    2.867981\n",
              "dtype: float64"
            ]
          },
          "metadata": {
            "tags": []
          },
          "execution_count": 17
        }
      ]
    },
    {
      "cell_type": "code",
      "metadata": {
        "colab": {
          "base_uri": "https://localhost:8080/",
          "height": 108
        },
        "id": "Ayxp-okWKoVB",
        "outputId": "3aa5e22d-3d02-4b83-bc0a-a990e97f355e"
      },
      "source": [
        "# Presence of Outliers \r\n",
        "mean=pf1_data.mean()\r\n",
        "from scipy.stats import trim_mean\r\n",
        "trimmed_mean=list(trim_mean(pf1_data,proportiontocut=0.01))\r\n",
        "pd.DataFrame({'mean': mean,'trimmed_mean': trimmed_mean})"
      ],
      "execution_count": null,
      "outputs": [
        {
          "output_type": "execute_result",
          "data": {
            "text/html": [
              "<div>\n",
              "<style scoped>\n",
              "    .dataframe tbody tr th:only-of-type {\n",
              "        vertical-align: middle;\n",
              "    }\n",
              "\n",
              "    .dataframe tbody tr th {\n",
              "        vertical-align: top;\n",
              "    }\n",
              "\n",
              "    .dataframe thead th {\n",
              "        text-align: right;\n",
              "    }\n",
              "</style>\n",
              "<table border=\"1\" class=\"dataframe\">\n",
              "  <thead>\n",
              "    <tr style=\"text-align: right;\">\n",
              "      <th></th>\n",
              "      <th>mean</th>\n",
              "      <th>trimmed_mean</th>\n",
              "    </tr>\n",
              "  </thead>\n",
              "  <tbody>\n",
              "    <tr>\n",
              "      <th>Elimination Week Number</th>\n",
              "      <td>9.135496</td>\n",
              "      <td>9.109086</td>\n",
              "    </tr>\n",
              "    <tr>\n",
              "      <th>Number of Evictions Faced</th>\n",
              "      <td>4.055375</td>\n",
              "      <td>NaN</td>\n",
              "    </tr>\n",
              "  </tbody>\n",
              "</table>\n",
              "</div>"
            ],
            "text/plain": [
              "                               mean  trimmed_mean\n",
              "Elimination Week Number    9.135496      9.109086\n",
              "Number of Evictions Faced  4.055375           NaN"
            ]
          },
          "metadata": {
            "tags": []
          },
          "execution_count": 18
        }
      ]
    },
    {
      "cell_type": "code",
      "metadata": {
        "colab": {
          "base_uri": "https://localhost:8080/"
        },
        "id": "4zHKv-gxKr4x",
        "outputId": "e2785848-be28-41e3-d1f6-4d812ee00b4a"
      },
      "source": [
        "# Interquartile Range\r\n",
        "\r\n",
        "qrt1 =pf1_data['Number of Evictions Faced'].quantile(0.25)\r\n",
        "qrt3=pf1['Number of Evictions Faced'].quantile(0.75)\r\n",
        "IQR = qrt3 - qrt1\r\n",
        "outliers=[]\r\n",
        "\r\n",
        "lower_bound=qrt1-(1.5*IQR)\r\n",
        "higher_bound=qrt3+(1.5*IQR)\r\n",
        "\r\n",
        "for i in pf1_data['Number of Evictions Faced']:\r\n",
        "    if i < lower_bound:\r\n",
        "        outliers.append(i)    \r\n",
        "for i in pf1_data['Number of Evictions Faced']:\r\n",
        "    if i > higher_bound:\r\n",
        "        outliers.append(i) \r\n",
        "print(outliers)"
      ],
      "execution_count": null,
      "outputs": [
        {
          "output_type": "stream",
          "text": [
            "[13.0]\n"
          ],
          "name": "stdout"
        }
      ]
    },
    {
      "cell_type": "code",
      "metadata": {
        "colab": {
          "base_uri": "https://localhost:8080/",
          "height": 320
        },
        "id": "eL1bWY4NLBQl",
        "outputId": "dea56a39-80ea-46e2-a56f-e1c68cc29dc7"
      },
      "source": [
        "# kde distribution of data\r\n",
        "\r\n",
        "pf1_data.plot(kind='density',subplots=True,sharex=False,layout=(1,2),figsize=(12,5))\r\n",
        "plt.show()"
      ],
      "execution_count": null,
      "outputs": [
        {
          "output_type": "display_data",
          "data": {
            "image/png": "[encoded data removed]",
            "text/plain": [
              "<Figure size 864x360 with 2 Axes>"
            ]
          },
          "metadata": {
            "tags": [],
            "needs_background": "light"
          }
        }
      ]
    },
    {
      "cell_type": "code",
      "metadata": {
        "colab": {
          "base_uri": "https://localhost:8080/"
        },
        "id": "0q50OYR6LEkN",
        "outputId": "d310a2af-3252-4209-8641-dad46431f908"
      },
      "source": [
        "# Kurtosis for skewness\r\n",
        "pf1_data.skew()"
      ],
      "execution_count": null,
      "outputs": [
        {
          "output_type": "execute_result",
          "data": {
            "text/plain": [
              "Elimination Week Number     -0.103362\n",
              "Number of Evictions Faced    0.805509\n",
              "dtype: float64"
            ]
          },
          "metadata": {
            "tags": []
          },
          "execution_count": 21
        }
      ]
    },
    {
      "cell_type": "code",
      "metadata": {
        "colab": {
          "base_uri": "https://localhost:8080/"
        },
        "id": "mRTcgY4dLHNY",
        "outputId": "4b1515ef-3700-4a49-9487-38f015b08cc6"
      },
      "source": [
        "pf1_data.kurt()"
      ],
      "execution_count": null,
      "outputs": [
        {
          "output_type": "execute_result",
          "data": {
            "text/plain": [
              "Elimination Week Number     -0.722060\n",
              "Number of Evictions Faced   -0.076087\n",
              "dtype: float64"
            ]
          },
          "metadata": {
            "tags": []
          },
          "execution_count": 22
        }
      ]
    },
    {
      "cell_type": "code",
      "metadata": {
        "colab": {
          "base_uri": "https://localhost:8080/",
          "height": 108
        },
        "id": "POpYEjvyLJNO",
        "outputId": "046b547a-136c-4cb4-e6ff-df2230688fa8"
      },
      "source": [
        "pf1_data.corr()"
      ],
      "execution_count": null,
      "outputs": [
        {
          "output_type": "execute_result",
          "data": {
            "text/html": [
              "<div>\n",
              "<style scoped>\n",
              "    .dataframe tbody tr th:only-of-type {\n",
              "        vertical-align: middle;\n",
              "    }\n",
              "\n",
              "    .dataframe tbody tr th {\n",
              "        vertical-align: top;\n",
              "    }\n",
              "\n",
              "    .dataframe thead th {\n",
              "        text-align: right;\n",
              "    }\n",
              "</style>\n",
              "<table border=\"1\" class=\"dataframe\">\n",
              "  <thead>\n",
              "    <tr style=\"text-align: right;\">\n",
              "      <th></th>\n",
              "      <th>Elimination Week Number</th>\n",
              "      <th>Number of Evictions Faced</th>\n",
              "    </tr>\n",
              "  </thead>\n",
              "  <tbody>\n",
              "    <tr>\n",
              "      <th>Elimination Week Number</th>\n",
              "      <td>1.000000</td>\n",
              "      <td>0.651989</td>\n",
              "    </tr>\n",
              "    <tr>\n",
              "      <th>Number of Evictions Faced</th>\n",
              "      <td>0.651989</td>\n",
              "      <td>1.000000</td>\n",
              "    </tr>\n",
              "  </tbody>\n",
              "</table>\n",
              "</div>"
            ],
            "text/plain": [
              "                           Elimination Week Number  Number of Evictions Faced\n",
              "Elimination Week Number                   1.000000                   0.651989\n",
              "Number of Evictions Faced                 0.651989                   1.000000"
            ]
          },
          "metadata": {
            "tags": []
          },
          "execution_count": 23
        }
      ]
    },
    {
      "cell_type": "code",
      "metadata": {
        "colab": {
          "base_uri": "https://localhost:8080/",
          "height": 286
        },
        "id": "yZ06kmOmLMD6",
        "outputId": "4375fefc-0f53-4f14-a2f4-7a511c37dcf4"
      },
      "source": [
        "sns.heatmap(pf1_data.corr())"
      ],
      "execution_count": null,
      "outputs": [
        {
          "output_type": "execute_result",
          "data": {
            "text/plain": [
              "<matplotlib.axes._subplots.AxesSubplot at 0x7f22b26fd1d0>"
            ]
          },
          "metadata": {
            "tags": []
          },
          "execution_count": 24
        },
        {
          "output_type": "display_data",
          "data": {
            "image/png": "[encoded data removed]",
            "text/plain": [
              "<Figure size 432x288 with 2 Axes>"
            ]
          },
          "metadata": {
            "tags": [],
            "needs_background": "light"
          }
        }
      ]
    },
    {
      "cell_type": "code",
      "metadata": {
        "colab": {
          "base_uri": "https://localhost:8080/"
        },
        "id": "ZdlGIKkMLQQR",
        "outputId": "6300cde5-eb7b-4ae1-8e7c-ca52d4eae205"
      },
      "source": [
        "# Shapiro\r\n",
        "\r\n",
        "test, p_val = stats.shapiro(pf1_data[\"Number of Evictions Faced\"])\r\n",
        "print('P value for Shapiro: ', p_val1)\r\n",
        "\r\n",
        "test, p_val2 = stats.shapiro(pf1_data[\"Elimination Week Number\"])\r\n",
        "print('P value for Shapiro: ',p_val2)\r\n"
      ],
      "execution_count": null,
      "outputs": [
        {
          "output_type": "stream",
          "text": [
            "P value for Shapiro:  1.0\n",
            "P value for Shapiro:  1.0998514599069864e-11\n"
          ],
          "name": "stdout"
        }
      ]
    },
    {
      "cell_type": "code",
      "metadata": {
        "colab": {
          "base_uri": "https://localhost:8080/",
          "height": 279
        },
        "id": "k1_vvAxOL4EH",
        "outputId": "50e1efb1-fd2c-4aa3-e711-23c088d0428c"
      },
      "source": [
        "# For Annova hypotheses\r\n",
        "sns.boxplot(x = \"Number of Evictions Faced\", y = \"Elimination Week Number\", data = pf1_data,palette=['blue','red','black'])\r\n",
        "plt.show()"
      ],
      "execution_count": null,
      "outputs": [
        {
          "output_type": "display_data",
          "data": {
            "image/png": "[encoded data removed]",
            "text/plain": [
              "<Figure size 432x288 with 1 Axes>"
            ]
          },
          "metadata": {
            "tags": [],
            "needs_background": "light"
          }
        }
      ]
    },
    {
      "cell_type": "code",
      "metadata": {
        "id": "MYxKrPHbMHeN"
      },
      "source": [
        "#Sample of n=50\r\n",
        "\r\n",
        "ptype1=pf1_data[pf1_data[\"Number of Evictions Faced\"]<5].sample(50,random_state=2)\r\n",
        "ptype2=pf1_data[pf1_data[\"Number of Evictions Faced\"]>6].sample(50,random_state=2)\r\n",
        "ptype3=pf1_data[pf1_data[\"Number of Evictions Faced\"]<2].sample(50,random_state=2)"
      ],
      "execution_count": null,
      "outputs": []
    },
    {
      "cell_type": "code",
      "metadata": {
        "colab": {
          "base_uri": "https://localhost:8080/"
        },
        "id": "-0SrXWA_MOmX",
        "outputId": "681ce30c-6176-44b6-b227-ca565391fde4"
      },
      "source": [
        "# Normality of data at 95% confidence level\r\n",
        "\r\n",
        "print(stats.shapiro(ptype1[\"Elimination Week Number\"]))\r\n",
        "print(stats.shapiro(ptype2[\"Elimination Week Number\"]))\r\n",
        "print(stats.shapiro(ptype2[\"Elimination Week Number\"]))"
      ],
      "execution_count": null,
      "outputs": [
        {
          "output_type": "stream",
          "text": [
            "(0.9497615694999695, 0.03335428610444069)\n",
            "(0.8540376424789429, 1.9935261661885306e-05)\n",
            "(0.8540376424789429, 1.9935261661885306e-05)\n"
          ],
          "name": "stdout"
        }
      ]
    },
    {
      "cell_type": "markdown",
      "metadata": {
        "id": "HHrct4zgMUfV"
      },
      "source": [
        "Since p-value is less than 0.05 level of significance we have enough evidence to conclude that the data is not normally distributed"
      ]
    },
    {
      "cell_type": "code",
      "metadata": {
        "colab": {
          "base_uri": "https://localhost:8080/"
        },
        "id": "bkocHsGmMUBc",
        "outputId": "bd6fb72e-5c22-4fbe-9e48-fc4281c9bf67"
      },
      "source": [
        "# Finding the F-stat and F-critical values\r\n",
        "\r\n",
        "crit_val = stats.f.isf(0.05, dfn = 2, dfd = 500)\r\n",
        "print(\"F critical value with 95% confidence:\",crit_val)\r\n",
        "\r\n",
        "#Calculating f_statistic and p-value:\r\n",
        "f_stat, p_val = stats.f_oneway(ptype1[\"Elimination Week Number\"],ptype2[\"Elimination Week Number\"],ptype3[\"Elimination Week Number\"])\r\n",
        "\r\n",
        "print(\"F-statistic:\",f_stat)\r\n",
        "\r\n",
        "#Calculating p-value\r\n",
        "print(\"P-value:\",p_val)"
      ],
      "execution_count": null,
      "outputs": [
        {
          "output_type": "stream",
          "text": [
            "F critical value with 95% confidence: 3.013753005713494\n",
            "F-statistic: 86.19964526803996\n",
            "P-value: 1.6954265896568623e-25\n"
          ],
          "name": "stdout"
        }
      ]
    },
    {
      "cell_type": "markdown",
      "metadata": {
        "id": "lnJRAt3ZMeRu"
      },
      "source": [
        "## Since F - statistic is greater than F critical value with 95% confidence it falls in the rejection region.So null hypothes is rejected .\r\n",
        "## Thus Elimination Week Number does not influence Number of Evictions Faced by a candidate: H1\r\n"
      ]
    },
    {
      "cell_type": "markdown",
      "metadata": {
        "id": "c_uTTvWQMmLm"
      },
      "source": [
        ""
      ]
    },
    {
      "cell_type": "markdown",
      "metadata": {
        "id": "Vsj0kP1sHq03"
      },
      "source": [
        "# 7. Does being a \"Finalist\" depend on the \"Number of times elected as Captain\".\r\n",
        "## H0 : 'Yes' being a \"Finalist\" depends on the \"Number of times elected as Captain\" for house mates\r\n",
        "\r\n",
        "## H1: 'No' being a Finalist depends on the Number of times elected as Captain for house mates"
      ]
    },
    {
      "cell_type": "code",
      "metadata": {
        "colab": {
          "base_uri": "https://localhost:8080/",
          "height": 913
        },
        "id": "rElkFuDYHn29",
        "outputId": "3ce3f90b-e80c-4597-90eb-f4b68cfc0dcb"
      },
      "source": [
        "# Fisrt understanding the data distribution for \"Finalist\" & \"Number of times elected as Captain\" are they normally distributed?\r\n",
        "import random\r\n",
        "\r\n",
        "## For Finalist\r\n",
        "def mean_dist_for_finalist(sample_size,sample_text):\r\n",
        "    m={}\r\n",
        "    for i in range(sample_size):\r\n",
        "        j = np.unique(np.random.randint(0, len(pf1), size = sample_size))\r\n",
        "        m[i] = pf1[\"Finalist\"][j].mean()   \r\n",
        "        df_x = pd.DataFrame()\r\n",
        "        df_x[\"sample\"] = m.keys()   \r\n",
        "        df_x[\"mean\"] = m.values() \r\n",
        "    plt.figure(figsize= (7,3))\r\n",
        "    plt.subplot(1,2,2)\r\n",
        "    sns.distplot(df_x[\"mean\"],color='darkgreen')\r\n",
        "    plt.title(\"Sampling Distribution for Mean of Finalist\")\r\n",
        "    plt.xlabel(sample_text)\r\n",
        "    plt.ylabel('freq')\r\n",
        "\r\n",
        "mean_dist_for_finalist(50,sample_text=\"Sample\")  # For sample size \r\n",
        "mean_dist_for_finalist(632,sample_text=\"Population\") # For population change sample size to population size \r\n",
        "\r\n",
        "i=0\r\n",
        "j=0\r\n",
        "## For \"Number of times elected as Captain\" \r\n",
        "def mean_dist_for_nof_elect_cap(sample_size,sample_text):\r\n",
        "    n={}\r\n",
        "    for i in range(sample_size):\r\n",
        "        j = np.unique(np.random.randint(0, len(pf1), size = sample_size))\r\n",
        "        n[i] = pf1[\"Number of times elected as Captain\"][j].mean()   \r\n",
        "        df_y = pd.DataFrame()\r\n",
        "        df_y[\"sample\"] = n.keys()   \r\n",
        "        df_y[\"mean\"] = n.values() \r\n",
        "    plt.figure(figsize= (7,3))\r\n",
        "    plt.subplot(1,2,2)\r\n",
        "    sns.distplot(df_y[\"mean\"],color='purple')\r\n",
        "    plt.title(\"Sampling Distribution for Mean of Number of times elected as Captain\")\r\n",
        "    plt.xlabel(sample_text)\r\n",
        "    plt.ylabel('freq')\r\n",
        "\r\n",
        "mean_dist_for_nof_elect_cap(50,sample_text=\"Sample\")  # For sample size\r\n",
        "mean_dist_for_nof_elect_cap(632,sample_text=\"Population\") # For population change sample size to population size \r\n",
        "plt.show()\r\n"
      ],
      "execution_count": null,
      "outputs": [
        {
          "output_type": "display_data",
          "data": {
            "image/png": "[encoded data removed]",
            "text/plain": [
              "<Figure size 504x216 with 1 Axes>"
            ]
          },
          "metadata": {
            "tags": [],
            "needs_background": "light"
          }
        },
        {
          "output_type": "display_data",
          "data": {
            "image/png": "[encoded data removed]",
            "text/plain": [
              "<Figure size 504x216 with 1 Axes>"
            ]
          },
          "metadata": {
            "tags": [],
            "needs_background": "light"
          }
        },
        {
          "output_type": "display_data",
          "data": {
            "image/png": "[encoded data removed]",
            "text/plain": [
              "<Figure size 504x216 with 1 Axes>"
            ]
          },
          "metadata": {
            "tags": [],
            "needs_background": "light"
          }
        },
        {
          "output_type": "display_data",
          "data": {
            "image/png": "[encoded data removed]",
            "text/plain": [
              "<Figure size 504x216 with 1 Axes>"
            ]
          },
          "metadata": {
            "tags": [],
            "needs_background": "light"
          }
        }
      ]
    },
    {
      "cell_type": "markdown",
      "metadata": {
        "id": "9_moEnGoIR-s"
      },
      "source": [
        "### If  sample size is increased to Population the data is normally distributed for both \"Number of times elected as Captain\" and \"Finalist\". \r\n",
        "\r\n",
        "### For discrete varibales we can consider a non-parametric hyptothesis test like Chi-Square test\r\n"
      ]
    },
    {
      "cell_type": "code",
      "metadata": {
        "colab": {
          "base_uri": "https://localhost:8080/"
        },
        "id": "24UWH2GNIYu9",
        "outputId": "4d492090-9e37-459e-87a6-f657e816da00"
      },
      "source": [
        "# Checking for normality of data at 95% confidence level \r\n",
        "test, p_val1 = stats.shapiro(pf1[\"Finalist\"])\r\n",
        "test, p_val2 = stats.shapiro(pf1[\"Number of times elected as Captain\"])\r\n",
        "\r\n",
        "print(' p_val for \"Finalist\": ',p_val1,'\\n','p_val for \"Number of times elected as Captain\": ',p_val2)\r\n"
      ],
      "execution_count": null,
      "outputs": [
        {
          "output_type": "stream",
          "text": [
            " p_val for \"Finalist\":  4.831595269161653e-38 \n",
            " p_val for \"Number of times elected as Captain\":  1.0208765095392441e-32\n"
          ],
          "name": "stdout"
        }
      ]
    },
    {
      "cell_type": "markdown",
      "metadata": {
        "id": "FEw7tTz3NEqv"
      },
      "source": [
        "## Since p-value is less than 0.05 level of significance we have enough evidence to conclude that the data is not normally distributed."
      ]
    },
    {
      "cell_type": "code",
      "metadata": {
        "colab": {
          "base_uri": "https://localhost:8080/",
          "height": 279
        },
        "id": "hqvzFLjcIhuZ",
        "outputId": "6ca1ac71-aa19-401d-eff7-e61588d216da"
      },
      "source": [
        "sns.boxplot(x = \"Number of times elected as Captain\", y = \"Finalist\", data = pf1,palette=['purple','violet','grey','pink'])\r\n",
        "plt.show()"
      ],
      "execution_count": null,
      "outputs": [
        {
          "output_type": "display_data",
          "data": {
            "image/png": "[encoded data removed]",
            "text/plain": [
              "<Figure size 432x288 with 1 Axes>"
            ]
          },
          "metadata": {
            "tags": [],
            "needs_background": "light"
          }
        }
      ]
    },
    {
      "cell_type": "code",
      "metadata": {
        "colab": {
          "base_uri": "https://localhost:8080/"
        },
        "id": "GfOAE07OIm52",
        "outputId": "298e0ee5-332b-4b1d-ef15-4fbcac685d2e"
      },
      "source": [
        "# Correlation for proving Hypothesis\r\n",
        "pf1[\"Number of times elected as Captain\"].corr(pf1[\"Finalist\"])  # Postive correlation exists"
      ],
      "execution_count": null,
      "outputs": [
        {
          "output_type": "execute_result",
          "data": {
            "text/plain": [
              "0.37243257805632163"
            ]
          },
          "metadata": {
            "tags": []
          },
          "execution_count": 41
        }
      ]
    },
    {
      "cell_type": "markdown",
      "metadata": {
        "id": "_jMcrfutNfgo"
      },
      "source": [
        "## Postive correlation exists between being a Finalist and being Elected as a Captain."
      ]
    },
    {
      "cell_type": "code",
      "metadata": {
        "colab": {
          "base_uri": "https://localhost:8080/",
          "height": 295
        },
        "id": "3SWk09WEYuHq",
        "outputId": "c8001390-1629-4c3f-c4ea-e09d71cece93"
      },
      "source": [
        "sns.boxplot(x = \"Finalist\", y = \"Number of times elected as Captain\", data = pf1,palette=['blue','cyan'])\r\n",
        "plt.title(\"Correlation\")\r\n",
        "plt.show()"
      ],
      "execution_count": null,
      "outputs": [
        {
          "output_type": "display_data",
          "data": {
            "image/png": "[encoded data removed]",
            "text/plain": [
              "<Figure size 432x288 with 1 Axes>"
            ]
          },
          "metadata": {
            "tags": [],
            "needs_background": "light"
          }
        }
      ]
    },
    {
      "cell_type": "code",
      "metadata": {
        "colab": {
          "base_uri": "https://localhost:8080/",
          "height": 281
        },
        "id": "_QHEoeaew2ab",
        "outputId": "44121402-2c64-4aa3-c4dd-cda3d479010c"
      },
      "source": [
        "sns.heatmap(pf1[[\"Number of times elected as Captain\", \"Finalist\"]],cmap=\"PiYG\",center=1)\r\n",
        "plt.title(\"Correlation\")\r\n",
        "plt.show()"
      ],
      "execution_count": null,
      "outputs": [
        {
          "output_type": "display_data",
          "data": {
            "image/png": "[encoded data removed]",
            "text/plain": [
              "<Figure size 432x288 with 2 Axes>"
            ]
          },
          "metadata": {
            "tags": [],
            "needs_background": "light"
          }
        }
      ]
    },
    {
      "cell_type": "markdown",
      "metadata": {
        "id": "Yq5GTIiWIxBS"
      },
      "source": [
        "## Chi Square 2 test for proving the hypotheses\r\n",
        "##H0 : Yes:  \"Number of times elected as Captain\" determines turning a \"Finalist\" \r\n",
        "##H1 : No:  \"Number of times elected as Captain\" determines turning a \"Finalist\" \r\n"
      ]
    },
    {
      "cell_type": "code",
      "metadata": {
        "colab": {
          "base_uri": "https://localhost:8080/"
        },
        "id": "Ai-A6mHIZJRJ",
        "outputId": "10a476fd-207e-4bff-c90d-bb889e1262fb"
      },
      "source": [
        "cross_t = pd.crosstab(index= pf1[\"Number of times elected as Captain\"],columns=pf1[\"Finalist\"])\r\n",
        "chi_stat, p_val, dof, expected = chi2_contingency(cross_t)\r\n",
        "\r\n",
        "print('p_val:',p_val)\r\n",
        "print('chi stat: ', chi_stat)"
      ],
      "execution_count": null,
      "outputs": [
        {
          "output_type": "stream",
          "text": [
            "p_val: 1.0054696062404451e-20\n",
            "chi stat:  103.4177483533082\n"
          ],
          "name": "stdout"
        }
      ]
    },
    {
      "cell_type": "code",
      "metadata": {
        "colab": {
          "base_uri": "https://localhost:8080/"
        },
        "id": "kW5E4E-lZIxv",
        "outputId": "4d0ea4ef-edea-4ed0-8610-4f17d2ff6f1a"
      },
      "source": [
        "critical = chi2.ppf(p_val, dof)\r\n",
        "print('probability= ' , p_val, 'critical= ',critical, 'chi_stat= ', chi_stat)\r\n",
        "\r\n",
        "if abs(chi_stat) >= critical:\r\n",
        "\tprint('(Reject Null H0)')\r\n",
        "else:\r\n",
        "\tprint('(Accept Null H0)')\r\n",
        " \r\n",
        "# interpreting  p_value\r\n",
        "\r\n",
        "alpha = 1.0 - p_val\r\n",
        "print('significance= ',alpha,  'p_valp= ', p_val)\r\n",
        "\r\n",
        "if p_val <= alpha:\r\n",
        "\tprint('Dependent (reject H0)')\r\n",
        "else:\r\n",
        "\tprint('Independent (fail to reject H0)')"
      ],
      "execution_count": null,
      "outputs": [
        {
          "output_type": "stream",
          "text": [
            "probability=  1.0054696062404451e-20 critical=  3.2404704083705394e-08 chi_stat=  103.4177483533082\n",
            "(Reject Null H0)\n",
            "significance=  1.0 p_valp=  1.0054696062404451e-20\n",
            "Dependent (reject H0)\n"
          ],
          "name": "stdout"
        }
      ]
    },
    {
      "cell_type": "markdown",
      "metadata": {
        "id": "d24_HpxBdAWv"
      },
      "source": [
        "## Since p_val is less than Alpha ( significance) H0 is rejected\r\n",
        "\r\n",
        "## \"Number of times elected as Captain\" does not determine being a \"Finalist\""
      ]
    },
    {
      "cell_type": "markdown",
      "metadata": {
        "id": "r_l6iSYH0p-o"
      },
      "source": [
        "Also because being Finalist is necessary for being a Winner, we can say that since the \"Number of times elected as Captain\" does not determine being a Finalist the same could be true for the dependencies between the Winner and the \"Number of times elected as Captain\"\r\n",
        "\r\n",
        "Since there is a strong correlation value between being a \"Finalist\" and \"Winner\""
      ]
    },
    {
      "cell_type": "code",
      "metadata": {
        "colab": {
          "base_uri": "https://localhost:8080/"
        },
        "id": "9lGl4wH20xDS",
        "outputId": "e6e6b8d7-e57e-4e1c-e65d-d5b0689eb2ed"
      },
      "source": [
        "# Correlation for proving Hypothesis\r\n",
        "pf1[\"Winner\"].corr(pf1[\"Finalist\"])  # Strong Postive correlation exists"
      ],
      "execution_count": null,
      "outputs": [
        {
          "output_type": "execute_result",
          "data": {
            "text/plain": [
              "0.42368872920801176"
            ]
          },
          "metadata": {
            "tags": []
          },
          "execution_count": 59
        }
      ]
    }
  ]
}